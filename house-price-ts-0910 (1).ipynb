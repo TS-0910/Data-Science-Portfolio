{
 "cells": [
  {
   "cell_type": "markdown",
   "metadata": {
    "papermill": {
     "duration": 0.050486,
     "end_time": "2020-09-16T23:38:15.168246",
     "exception": false,
     "start_time": "2020-09-16T23:38:15.117760",
     "status": "completed"
    },
    "tags": []
   },
   "source": [
    "# House Price\n",
    "The general description is [here!](https://www.kaggle.com/c/house-prices-advanced-regression-techniques)."
   ]
  },
  {
   "cell_type": "code",
   "execution_count": 1,
   "metadata": {
    "_cell_guid": "b1076dfc-b9ad-4769-8c92-a6c4dae69d19",
    "_uuid": "8f2839f25d086af736a60e9eeb907d3b93b6e0e5",
    "execution": {
     "iopub.execute_input": "2020-09-16T23:38:15.272294Z",
     "iopub.status.busy": "2020-09-16T23:38:15.271586Z",
     "iopub.status.idle": "2020-09-16T23:38:15.276124Z",
     "shell.execute_reply": "2020-09-16T23:38:15.276925Z"
    },
    "papermill": {
     "duration": 0.060253,
     "end_time": "2020-09-16T23:38:15.277149",
     "exception": false,
     "start_time": "2020-09-16T23:38:15.216896",
     "status": "completed"
    },
    "tags": []
   },
   "outputs": [
    {
     "name": "stdout",
     "output_type": "stream",
     "text": [
      "/kaggle/input/house-prices-advanced-regression-techniques/train.csv\n",
      "/kaggle/input/house-prices-advanced-regression-techniques/test.csv\n",
      "/kaggle/input/house-prices-advanced-regression-techniques/sample_submission.csv\n",
      "/kaggle/input/house-prices-advanced-regression-techniques/data_description.txt\n"
     ]
    }
   ],
   "source": [
    "# This Python 3 environment comes with many helpful analytics libraries installed\n",
    "# It is defined by the kaggle/python Docker image: https://github.com/kaggle/docker-python\n",
    "# For example, here's several helpful packages to load\n",
    "\n",
    "import numpy as np # linear algebra\n",
    "import pandas as pd # data processing, CSV file I/O (e.g. pd.read_csv)\n",
    "\n",
    "# Input data files are available in the read-only \"../input/\" directory\n",
    "# For example, running this (by clicking run or pressing Shift+Enter) will list all files under the input directory\n",
    "\n",
    "import os\n",
    "for dirname, _, filenames in os.walk('/kaggle/input'):\n",
    "    for filename in filenames:\n",
    "        print(os.path.join(dirname, filename))\n",
    "\n",
    "# You can write up to 5GB to the current directory (/kaggle/working/) that gets preserved as output when you create a version using \"Save & Run All\" \n",
    "# You can also write temporary files to /kaggle/temp/, but they won't be saved outside of the current session"
   ]
  },
  {
   "cell_type": "code",
   "execution_count": 2,
   "metadata": {
    "execution": {
     "iopub.execute_input": "2020-09-16T23:38:15.384155Z",
     "iopub.status.busy": "2020-09-16T23:38:15.383523Z",
     "iopub.status.idle": "2020-09-16T23:38:16.560499Z",
     "shell.execute_reply": "2020-09-16T23:38:16.559869Z"
    },
    "papermill": {
     "duration": 1.232422,
     "end_time": "2020-09-16T23:38:16.560613",
     "exception": false,
     "start_time": "2020-09-16T23:38:15.328191",
     "status": "completed"
    },
    "tags": []
   },
   "outputs": [],
   "source": [
    "import numpy as np\n",
    "import seaborn as sns\n",
    "import matplotlib.pyplot as plt\n",
    "import lightgbm as lgb\n",
    "from scipy import stats\n",
    "from scipy.stats import norm\n",
    "from sklearn.model_selection import train_test_split\n",
    "from sklearn import preprocessing  \n",
    "from sklearn.metrics import mean_squared_error\n",
    "from sklearn.metrics import r2_score"
   ]
  },
  {
   "cell_type": "code",
   "execution_count": 3,
   "metadata": {
    "_cell_guid": "79c7e3d0-c299-4dcb-8224-4455121ee9b0",
    "_uuid": "d629ff2d2480ee46fbb7e2d37f6b5fab8052498a",
    "execution": {
     "iopub.execute_input": "2020-09-16T23:38:16.666787Z",
     "iopub.status.busy": "2020-09-16T23:38:16.666076Z",
     "iopub.status.idle": "2020-09-16T23:38:16.743572Z",
     "shell.execute_reply": "2020-09-16T23:38:16.742996Z"
    },
    "papermill": {
     "duration": 0.133595,
     "end_time": "2020-09-16T23:38:16.743697",
     "exception": false,
     "start_time": "2020-09-16T23:38:16.610102",
     "status": "completed"
    },
    "tags": []
   },
   "outputs": [],
   "source": [
    "# Reading the CSV file\n",
    "\n",
    "df1 = pd.read_csv(\"/kaggle/input/house-prices-advanced-regression-techniques/train.csv\")\n",
    "df_test1 = pd.read_csv(\"/kaggle/input/house-prices-advanced-regression-techniques/test.csv\")"
   ]
  },
  {
   "cell_type": "code",
   "execution_count": 4,
   "metadata": {
    "execution": {
     "iopub.execute_input": "2020-09-16T23:38:16.848193Z",
     "iopub.status.busy": "2020-09-16T23:38:16.847327Z",
     "iopub.status.idle": "2020-09-16T23:38:16.912353Z",
     "shell.execute_reply": "2020-09-16T23:38:16.912855Z"
    },
    "papermill": {
     "duration": 0.119606,
     "end_time": "2020-09-16T23:38:16.913004",
     "exception": false,
     "start_time": "2020-09-16T23:38:16.793398",
     "status": "completed"
    },
    "tags": []
   },
   "outputs": [
    {
     "data": {
      "text/html": [
       "<div>\n",
       "<style scoped>\n",
       "    .dataframe tbody tr th:only-of-type {\n",
       "        vertical-align: middle;\n",
       "    }\n",
       "\n",
       "    .dataframe tbody tr th {\n",
       "        vertical-align: top;\n",
       "    }\n",
       "\n",
       "    .dataframe thead th {\n",
       "        text-align: right;\n",
       "    }\n",
       "</style>\n",
       "<table border=\"1\" class=\"dataframe\">\n",
       "  <thead>\n",
       "    <tr style=\"text-align: right;\">\n",
       "      <th></th>\n",
       "      <th>Id</th>\n",
       "      <th>MSSubClass</th>\n",
       "      <th>LotFrontage</th>\n",
       "      <th>LotArea</th>\n",
       "      <th>OverallQual</th>\n",
       "      <th>OverallCond</th>\n",
       "      <th>YearBuilt</th>\n",
       "      <th>YearRemodAdd</th>\n",
       "      <th>MasVnrArea</th>\n",
       "      <th>BsmtFinSF1</th>\n",
       "      <th>...</th>\n",
       "      <th>WoodDeckSF</th>\n",
       "      <th>OpenPorchSF</th>\n",
       "      <th>EnclosedPorch</th>\n",
       "      <th>3SsnPorch</th>\n",
       "      <th>ScreenPorch</th>\n",
       "      <th>PoolArea</th>\n",
       "      <th>MiscVal</th>\n",
       "      <th>MoSold</th>\n",
       "      <th>YrSold</th>\n",
       "      <th>SalePrice</th>\n",
       "    </tr>\n",
       "  </thead>\n",
       "  <tbody>\n",
       "    <tr>\n",
       "      <th>Id</th>\n",
       "      <td>1.000000</td>\n",
       "      <td>0.011156</td>\n",
       "      <td>-0.010601</td>\n",
       "      <td>-0.033226</td>\n",
       "      <td>-0.028365</td>\n",
       "      <td>0.012609</td>\n",
       "      <td>-0.012713</td>\n",
       "      <td>-0.021998</td>\n",
       "      <td>-0.050298</td>\n",
       "      <td>-0.005024</td>\n",
       "      <td>...</td>\n",
       "      <td>-0.029643</td>\n",
       "      <td>-0.000477</td>\n",
       "      <td>0.002889</td>\n",
       "      <td>-0.046635</td>\n",
       "      <td>0.001330</td>\n",
       "      <td>0.057044</td>\n",
       "      <td>-0.006242</td>\n",
       "      <td>0.021172</td>\n",
       "      <td>0.000712</td>\n",
       "      <td>-0.021917</td>\n",
       "    </tr>\n",
       "    <tr>\n",
       "      <th>MSSubClass</th>\n",
       "      <td>0.011156</td>\n",
       "      <td>1.000000</td>\n",
       "      <td>-0.386347</td>\n",
       "      <td>-0.139781</td>\n",
       "      <td>0.032628</td>\n",
       "      <td>-0.059316</td>\n",
       "      <td>0.027850</td>\n",
       "      <td>0.040581</td>\n",
       "      <td>0.022936</td>\n",
       "      <td>-0.069836</td>\n",
       "      <td>...</td>\n",
       "      <td>-0.012579</td>\n",
       "      <td>-0.006100</td>\n",
       "      <td>-0.012037</td>\n",
       "      <td>-0.043825</td>\n",
       "      <td>-0.026030</td>\n",
       "      <td>0.008283</td>\n",
       "      <td>-0.007683</td>\n",
       "      <td>-0.013585</td>\n",
       "      <td>-0.021407</td>\n",
       "      <td>-0.084284</td>\n",
       "    </tr>\n",
       "    <tr>\n",
       "      <th>LotFrontage</th>\n",
       "      <td>-0.010601</td>\n",
       "      <td>-0.386347</td>\n",
       "      <td>1.000000</td>\n",
       "      <td>0.426095</td>\n",
       "      <td>0.251646</td>\n",
       "      <td>-0.059213</td>\n",
       "      <td>0.123349</td>\n",
       "      <td>0.088866</td>\n",
       "      <td>0.193458</td>\n",
       "      <td>0.233633</td>\n",
       "      <td>...</td>\n",
       "      <td>0.088521</td>\n",
       "      <td>0.151972</td>\n",
       "      <td>0.010700</td>\n",
       "      <td>0.070029</td>\n",
       "      <td>0.041383</td>\n",
       "      <td>0.206167</td>\n",
       "      <td>0.003368</td>\n",
       "      <td>0.011200</td>\n",
       "      <td>0.007450</td>\n",
       "      <td>0.351799</td>\n",
       "    </tr>\n",
       "    <tr>\n",
       "      <th>LotArea</th>\n",
       "      <td>-0.033226</td>\n",
       "      <td>-0.139781</td>\n",
       "      <td>0.426095</td>\n",
       "      <td>1.000000</td>\n",
       "      <td>0.105806</td>\n",
       "      <td>-0.005636</td>\n",
       "      <td>0.014228</td>\n",
       "      <td>0.013788</td>\n",
       "      <td>0.104160</td>\n",
       "      <td>0.214103</td>\n",
       "      <td>...</td>\n",
       "      <td>0.171698</td>\n",
       "      <td>0.084774</td>\n",
       "      <td>-0.018340</td>\n",
       "      <td>0.020423</td>\n",
       "      <td>0.043160</td>\n",
       "      <td>0.077672</td>\n",
       "      <td>0.038068</td>\n",
       "      <td>0.001205</td>\n",
       "      <td>-0.014261</td>\n",
       "      <td>0.263843</td>\n",
       "    </tr>\n",
       "    <tr>\n",
       "      <th>OverallQual</th>\n",
       "      <td>-0.028365</td>\n",
       "      <td>0.032628</td>\n",
       "      <td>0.251646</td>\n",
       "      <td>0.105806</td>\n",
       "      <td>1.000000</td>\n",
       "      <td>-0.091932</td>\n",
       "      <td>0.572323</td>\n",
       "      <td>0.550684</td>\n",
       "      <td>0.411876</td>\n",
       "      <td>0.239666</td>\n",
       "      <td>...</td>\n",
       "      <td>0.238923</td>\n",
       "      <td>0.308819</td>\n",
       "      <td>-0.113937</td>\n",
       "      <td>0.030371</td>\n",
       "      <td>0.064886</td>\n",
       "      <td>0.065166</td>\n",
       "      <td>-0.031406</td>\n",
       "      <td>0.070815</td>\n",
       "      <td>-0.027347</td>\n",
       "      <td>0.790982</td>\n",
       "    </tr>\n",
       "    <tr>\n",
       "      <th>OverallCond</th>\n",
       "      <td>0.012609</td>\n",
       "      <td>-0.059316</td>\n",
       "      <td>-0.059213</td>\n",
       "      <td>-0.005636</td>\n",
       "      <td>-0.091932</td>\n",
       "      <td>1.000000</td>\n",
       "      <td>-0.375983</td>\n",
       "      <td>0.073741</td>\n",
       "      <td>-0.128101</td>\n",
       "      <td>-0.046231</td>\n",
       "      <td>...</td>\n",
       "      <td>-0.003334</td>\n",
       "      <td>-0.032589</td>\n",
       "      <td>0.070356</td>\n",
       "      <td>0.025504</td>\n",
       "      <td>0.054811</td>\n",
       "      <td>-0.001985</td>\n",
       "      <td>0.068777</td>\n",
       "      <td>-0.003511</td>\n",
       "      <td>0.043950</td>\n",
       "      <td>-0.077856</td>\n",
       "    </tr>\n",
       "    <tr>\n",
       "      <th>YearBuilt</th>\n",
       "      <td>-0.012713</td>\n",
       "      <td>0.027850</td>\n",
       "      <td>0.123349</td>\n",
       "      <td>0.014228</td>\n",
       "      <td>0.572323</td>\n",
       "      <td>-0.375983</td>\n",
       "      <td>1.000000</td>\n",
       "      <td>0.592855</td>\n",
       "      <td>0.315707</td>\n",
       "      <td>0.249503</td>\n",
       "      <td>...</td>\n",
       "      <td>0.224880</td>\n",
       "      <td>0.188686</td>\n",
       "      <td>-0.387268</td>\n",
       "      <td>0.031355</td>\n",
       "      <td>-0.050364</td>\n",
       "      <td>0.004950</td>\n",
       "      <td>-0.034383</td>\n",
       "      <td>0.012398</td>\n",
       "      <td>-0.013618</td>\n",
       "      <td>0.522897</td>\n",
       "    </tr>\n",
       "    <tr>\n",
       "      <th>YearRemodAdd</th>\n",
       "      <td>-0.021998</td>\n",
       "      <td>0.040581</td>\n",
       "      <td>0.088866</td>\n",
       "      <td>0.013788</td>\n",
       "      <td>0.550684</td>\n",
       "      <td>0.073741</td>\n",
       "      <td>0.592855</td>\n",
       "      <td>1.000000</td>\n",
       "      <td>0.179618</td>\n",
       "      <td>0.128451</td>\n",
       "      <td>...</td>\n",
       "      <td>0.205726</td>\n",
       "      <td>0.226298</td>\n",
       "      <td>-0.193919</td>\n",
       "      <td>0.045286</td>\n",
       "      <td>-0.038740</td>\n",
       "      <td>0.005829</td>\n",
       "      <td>-0.010286</td>\n",
       "      <td>0.021490</td>\n",
       "      <td>0.035743</td>\n",
       "      <td>0.507101</td>\n",
       "    </tr>\n",
       "    <tr>\n",
       "      <th>MasVnrArea</th>\n",
       "      <td>-0.050298</td>\n",
       "      <td>0.022936</td>\n",
       "      <td>0.193458</td>\n",
       "      <td>0.104160</td>\n",
       "      <td>0.411876</td>\n",
       "      <td>-0.128101</td>\n",
       "      <td>0.315707</td>\n",
       "      <td>0.179618</td>\n",
       "      <td>1.000000</td>\n",
       "      <td>0.264736</td>\n",
       "      <td>...</td>\n",
       "      <td>0.159718</td>\n",
       "      <td>0.125703</td>\n",
       "      <td>-0.110204</td>\n",
       "      <td>0.018796</td>\n",
       "      <td>0.061466</td>\n",
       "      <td>0.011723</td>\n",
       "      <td>-0.029815</td>\n",
       "      <td>-0.005965</td>\n",
       "      <td>-0.008201</td>\n",
       "      <td>0.477493</td>\n",
       "    </tr>\n",
       "    <tr>\n",
       "      <th>BsmtFinSF1</th>\n",
       "      <td>-0.005024</td>\n",
       "      <td>-0.069836</td>\n",
       "      <td>0.233633</td>\n",
       "      <td>0.214103</td>\n",
       "      <td>0.239666</td>\n",
       "      <td>-0.046231</td>\n",
       "      <td>0.249503</td>\n",
       "      <td>0.128451</td>\n",
       "      <td>0.264736</td>\n",
       "      <td>1.000000</td>\n",
       "      <td>...</td>\n",
       "      <td>0.204306</td>\n",
       "      <td>0.111761</td>\n",
       "      <td>-0.102303</td>\n",
       "      <td>0.026451</td>\n",
       "      <td>0.062021</td>\n",
       "      <td>0.140491</td>\n",
       "      <td>0.003571</td>\n",
       "      <td>-0.015727</td>\n",
       "      <td>0.014359</td>\n",
       "      <td>0.386420</td>\n",
       "    </tr>\n",
       "    <tr>\n",
       "      <th>BsmtFinSF2</th>\n",
       "      <td>-0.005968</td>\n",
       "      <td>-0.065649</td>\n",
       "      <td>0.049900</td>\n",
       "      <td>0.111170</td>\n",
       "      <td>-0.059119</td>\n",
       "      <td>0.040229</td>\n",
       "      <td>-0.049107</td>\n",
       "      <td>-0.067759</td>\n",
       "      <td>-0.072319</td>\n",
       "      <td>-0.050117</td>\n",
       "      <td>...</td>\n",
       "      <td>0.067898</td>\n",
       "      <td>0.003093</td>\n",
       "      <td>0.036543</td>\n",
       "      <td>-0.029993</td>\n",
       "      <td>0.088871</td>\n",
       "      <td>0.041709</td>\n",
       "      <td>0.004940</td>\n",
       "      <td>-0.015211</td>\n",
       "      <td>0.031706</td>\n",
       "      <td>-0.011378</td>\n",
       "    </tr>\n",
       "    <tr>\n",
       "      <th>BsmtUnfSF</th>\n",
       "      <td>-0.007940</td>\n",
       "      <td>-0.140759</td>\n",
       "      <td>0.132644</td>\n",
       "      <td>-0.002618</td>\n",
       "      <td>0.308159</td>\n",
       "      <td>-0.136841</td>\n",
       "      <td>0.149040</td>\n",
       "      <td>0.181133</td>\n",
       "      <td>0.114442</td>\n",
       "      <td>-0.495251</td>\n",
       "      <td>...</td>\n",
       "      <td>-0.005316</td>\n",
       "      <td>0.129005</td>\n",
       "      <td>-0.002538</td>\n",
       "      <td>0.020764</td>\n",
       "      <td>-0.012579</td>\n",
       "      <td>-0.035092</td>\n",
       "      <td>-0.023837</td>\n",
       "      <td>0.034888</td>\n",
       "      <td>-0.041258</td>\n",
       "      <td>0.214479</td>\n",
       "    </tr>\n",
       "    <tr>\n",
       "      <th>TotalBsmtSF</th>\n",
       "      <td>-0.015415</td>\n",
       "      <td>-0.238518</td>\n",
       "      <td>0.392075</td>\n",
       "      <td>0.260833</td>\n",
       "      <td>0.537808</td>\n",
       "      <td>-0.171098</td>\n",
       "      <td>0.391452</td>\n",
       "      <td>0.291066</td>\n",
       "      <td>0.363936</td>\n",
       "      <td>0.522396</td>\n",
       "      <td>...</td>\n",
       "      <td>0.232019</td>\n",
       "      <td>0.247264</td>\n",
       "      <td>-0.095478</td>\n",
       "      <td>0.037384</td>\n",
       "      <td>0.084489</td>\n",
       "      <td>0.126053</td>\n",
       "      <td>-0.018479</td>\n",
       "      <td>0.013196</td>\n",
       "      <td>-0.014969</td>\n",
       "      <td>0.613581</td>\n",
       "    </tr>\n",
       "    <tr>\n",
       "      <th>1stFlrSF</th>\n",
       "      <td>0.010496</td>\n",
       "      <td>-0.251758</td>\n",
       "      <td>0.457181</td>\n",
       "      <td>0.299475</td>\n",
       "      <td>0.476224</td>\n",
       "      <td>-0.144203</td>\n",
       "      <td>0.281986</td>\n",
       "      <td>0.240379</td>\n",
       "      <td>0.344501</td>\n",
       "      <td>0.445863</td>\n",
       "      <td>...</td>\n",
       "      <td>0.235459</td>\n",
       "      <td>0.211671</td>\n",
       "      <td>-0.065292</td>\n",
       "      <td>0.056104</td>\n",
       "      <td>0.088758</td>\n",
       "      <td>0.131525</td>\n",
       "      <td>-0.021096</td>\n",
       "      <td>0.031372</td>\n",
       "      <td>-0.013604</td>\n",
       "      <td>0.605852</td>\n",
       "    </tr>\n",
       "    <tr>\n",
       "      <th>2ndFlrSF</th>\n",
       "      <td>0.005590</td>\n",
       "      <td>0.307886</td>\n",
       "      <td>0.080177</td>\n",
       "      <td>0.050986</td>\n",
       "      <td>0.295493</td>\n",
       "      <td>0.028942</td>\n",
       "      <td>0.010308</td>\n",
       "      <td>0.140024</td>\n",
       "      <td>0.174561</td>\n",
       "      <td>-0.137079</td>\n",
       "      <td>...</td>\n",
       "      <td>0.092165</td>\n",
       "      <td>0.208026</td>\n",
       "      <td>0.061989</td>\n",
       "      <td>-0.024358</td>\n",
       "      <td>0.040606</td>\n",
       "      <td>0.081487</td>\n",
       "      <td>0.016197</td>\n",
       "      <td>0.035164</td>\n",
       "      <td>-0.028700</td>\n",
       "      <td>0.319334</td>\n",
       "    </tr>\n",
       "    <tr>\n",
       "      <th>LowQualFinSF</th>\n",
       "      <td>-0.044230</td>\n",
       "      <td>0.046474</td>\n",
       "      <td>0.038469</td>\n",
       "      <td>0.004779</td>\n",
       "      <td>-0.030429</td>\n",
       "      <td>0.025494</td>\n",
       "      <td>-0.183784</td>\n",
       "      <td>-0.062419</td>\n",
       "      <td>-0.069071</td>\n",
       "      <td>-0.064503</td>\n",
       "      <td>...</td>\n",
       "      <td>-0.025444</td>\n",
       "      <td>0.018251</td>\n",
       "      <td>0.061081</td>\n",
       "      <td>-0.004296</td>\n",
       "      <td>0.026799</td>\n",
       "      <td>0.062157</td>\n",
       "      <td>-0.003793</td>\n",
       "      <td>-0.022174</td>\n",
       "      <td>-0.028921</td>\n",
       "      <td>-0.025606</td>\n",
       "    </tr>\n",
       "    <tr>\n",
       "      <th>GrLivArea</th>\n",
       "      <td>0.008273</td>\n",
       "      <td>0.074853</td>\n",
       "      <td>0.402797</td>\n",
       "      <td>0.263116</td>\n",
       "      <td>0.593007</td>\n",
       "      <td>-0.079686</td>\n",
       "      <td>0.199010</td>\n",
       "      <td>0.287389</td>\n",
       "      <td>0.390857</td>\n",
       "      <td>0.208171</td>\n",
       "      <td>...</td>\n",
       "      <td>0.247433</td>\n",
       "      <td>0.330224</td>\n",
       "      <td>0.009113</td>\n",
       "      <td>0.020643</td>\n",
       "      <td>0.101510</td>\n",
       "      <td>0.170205</td>\n",
       "      <td>-0.002416</td>\n",
       "      <td>0.050240</td>\n",
       "      <td>-0.036526</td>\n",
       "      <td>0.708624</td>\n",
       "    </tr>\n",
       "    <tr>\n",
       "      <th>BsmtFullBath</th>\n",
       "      <td>0.002289</td>\n",
       "      <td>0.003491</td>\n",
       "      <td>0.100949</td>\n",
       "      <td>0.158155</td>\n",
       "      <td>0.111098</td>\n",
       "      <td>-0.054942</td>\n",
       "      <td>0.187599</td>\n",
       "      <td>0.119470</td>\n",
       "      <td>0.085310</td>\n",
       "      <td>0.649212</td>\n",
       "      <td>...</td>\n",
       "      <td>0.175315</td>\n",
       "      <td>0.067341</td>\n",
       "      <td>-0.049911</td>\n",
       "      <td>-0.000106</td>\n",
       "      <td>0.023148</td>\n",
       "      <td>0.067616</td>\n",
       "      <td>-0.023047</td>\n",
       "      <td>-0.025361</td>\n",
       "      <td>0.067049</td>\n",
       "      <td>0.227122</td>\n",
       "    </tr>\n",
       "    <tr>\n",
       "      <th>BsmtHalfBath</th>\n",
       "      <td>-0.020155</td>\n",
       "      <td>-0.002333</td>\n",
       "      <td>-0.007234</td>\n",
       "      <td>0.048046</td>\n",
       "      <td>-0.040150</td>\n",
       "      <td>0.117821</td>\n",
       "      <td>-0.038162</td>\n",
       "      <td>-0.012337</td>\n",
       "      <td>0.026673</td>\n",
       "      <td>0.067418</td>\n",
       "      <td>...</td>\n",
       "      <td>0.040161</td>\n",
       "      <td>-0.025324</td>\n",
       "      <td>-0.008555</td>\n",
       "      <td>0.035114</td>\n",
       "      <td>0.032121</td>\n",
       "      <td>0.020025</td>\n",
       "      <td>-0.007367</td>\n",
       "      <td>0.032873</td>\n",
       "      <td>-0.046524</td>\n",
       "      <td>-0.016844</td>\n",
       "    </tr>\n",
       "    <tr>\n",
       "      <th>FullBath</th>\n",
       "      <td>0.005587</td>\n",
       "      <td>0.131608</td>\n",
       "      <td>0.198769</td>\n",
       "      <td>0.126031</td>\n",
       "      <td>0.550600</td>\n",
       "      <td>-0.194149</td>\n",
       "      <td>0.468271</td>\n",
       "      <td>0.439046</td>\n",
       "      <td>0.276833</td>\n",
       "      <td>0.058543</td>\n",
       "      <td>...</td>\n",
       "      <td>0.187703</td>\n",
       "      <td>0.259977</td>\n",
       "      <td>-0.115093</td>\n",
       "      <td>0.035353</td>\n",
       "      <td>-0.008106</td>\n",
       "      <td>0.049604</td>\n",
       "      <td>-0.014290</td>\n",
       "      <td>0.055872</td>\n",
       "      <td>-0.019669</td>\n",
       "      <td>0.560664</td>\n",
       "    </tr>\n",
       "    <tr>\n",
       "      <th>HalfBath</th>\n",
       "      <td>0.006784</td>\n",
       "      <td>0.177354</td>\n",
       "      <td>0.053532</td>\n",
       "      <td>0.014259</td>\n",
       "      <td>0.273458</td>\n",
       "      <td>-0.060769</td>\n",
       "      <td>0.242656</td>\n",
       "      <td>0.183331</td>\n",
       "      <td>0.201444</td>\n",
       "      <td>0.004262</td>\n",
       "      <td>...</td>\n",
       "      <td>0.108080</td>\n",
       "      <td>0.199740</td>\n",
       "      <td>-0.095317</td>\n",
       "      <td>-0.004972</td>\n",
       "      <td>0.072426</td>\n",
       "      <td>0.022381</td>\n",
       "      <td>0.001290</td>\n",
       "      <td>-0.009050</td>\n",
       "      <td>-0.010269</td>\n",
       "      <td>0.284108</td>\n",
       "    </tr>\n",
       "    <tr>\n",
       "      <th>BedroomAbvGr</th>\n",
       "      <td>0.037719</td>\n",
       "      <td>-0.023438</td>\n",
       "      <td>0.263170</td>\n",
       "      <td>0.119690</td>\n",
       "      <td>0.101676</td>\n",
       "      <td>0.012980</td>\n",
       "      <td>-0.070651</td>\n",
       "      <td>-0.040581</td>\n",
       "      <td>0.102821</td>\n",
       "      <td>-0.107355</td>\n",
       "      <td>...</td>\n",
       "      <td>0.046854</td>\n",
       "      <td>0.093810</td>\n",
       "      <td>0.041570</td>\n",
       "      <td>-0.024478</td>\n",
       "      <td>0.044300</td>\n",
       "      <td>0.070703</td>\n",
       "      <td>0.007767</td>\n",
       "      <td>0.046544</td>\n",
       "      <td>-0.036014</td>\n",
       "      <td>0.168213</td>\n",
       "    </tr>\n",
       "    <tr>\n",
       "      <th>KitchenAbvGr</th>\n",
       "      <td>0.002951</td>\n",
       "      <td>0.281721</td>\n",
       "      <td>-0.006069</td>\n",
       "      <td>-0.017784</td>\n",
       "      <td>-0.183882</td>\n",
       "      <td>-0.087001</td>\n",
       "      <td>-0.174800</td>\n",
       "      <td>-0.149598</td>\n",
       "      <td>-0.037610</td>\n",
       "      <td>-0.081007</td>\n",
       "      <td>...</td>\n",
       "      <td>-0.090130</td>\n",
       "      <td>-0.070091</td>\n",
       "      <td>0.037312</td>\n",
       "      <td>-0.024600</td>\n",
       "      <td>-0.051613</td>\n",
       "      <td>-0.014525</td>\n",
       "      <td>0.062341</td>\n",
       "      <td>0.026589</td>\n",
       "      <td>0.031687</td>\n",
       "      <td>-0.135907</td>\n",
       "    </tr>\n",
       "    <tr>\n",
       "      <th>TotRmsAbvGrd</th>\n",
       "      <td>0.027239</td>\n",
       "      <td>0.040380</td>\n",
       "      <td>0.352096</td>\n",
       "      <td>0.190015</td>\n",
       "      <td>0.427452</td>\n",
       "      <td>-0.057583</td>\n",
       "      <td>0.095589</td>\n",
       "      <td>0.191740</td>\n",
       "      <td>0.280682</td>\n",
       "      <td>0.044316</td>\n",
       "      <td>...</td>\n",
       "      <td>0.165984</td>\n",
       "      <td>0.234192</td>\n",
       "      <td>0.004151</td>\n",
       "      <td>-0.006683</td>\n",
       "      <td>0.059383</td>\n",
       "      <td>0.083757</td>\n",
       "      <td>0.024763</td>\n",
       "      <td>0.036907</td>\n",
       "      <td>-0.034516</td>\n",
       "      <td>0.533723</td>\n",
       "    </tr>\n",
       "    <tr>\n",
       "      <th>Fireplaces</th>\n",
       "      <td>-0.019772</td>\n",
       "      <td>-0.045569</td>\n",
       "      <td>0.266639</td>\n",
       "      <td>0.271364</td>\n",
       "      <td>0.396765</td>\n",
       "      <td>-0.023820</td>\n",
       "      <td>0.147716</td>\n",
       "      <td>0.112581</td>\n",
       "      <td>0.249070</td>\n",
       "      <td>0.260011</td>\n",
       "      <td>...</td>\n",
       "      <td>0.200019</td>\n",
       "      <td>0.169405</td>\n",
       "      <td>-0.024822</td>\n",
       "      <td>0.011257</td>\n",
       "      <td>0.184530</td>\n",
       "      <td>0.095074</td>\n",
       "      <td>0.001409</td>\n",
       "      <td>0.046357</td>\n",
       "      <td>-0.024096</td>\n",
       "      <td>0.466929</td>\n",
       "    </tr>\n",
       "    <tr>\n",
       "      <th>GarageYrBlt</th>\n",
       "      <td>0.000072</td>\n",
       "      <td>0.085072</td>\n",
       "      <td>0.070250</td>\n",
       "      <td>-0.024947</td>\n",
       "      <td>0.547766</td>\n",
       "      <td>-0.324297</td>\n",
       "      <td>0.825667</td>\n",
       "      <td>0.642277</td>\n",
       "      <td>0.252691</td>\n",
       "      <td>0.153484</td>\n",
       "      <td>...</td>\n",
       "      <td>0.224577</td>\n",
       "      <td>0.228425</td>\n",
       "      <td>-0.297003</td>\n",
       "      <td>0.023544</td>\n",
       "      <td>-0.075418</td>\n",
       "      <td>-0.014501</td>\n",
       "      <td>-0.032417</td>\n",
       "      <td>0.005337</td>\n",
       "      <td>-0.001014</td>\n",
       "      <td>0.486362</td>\n",
       "    </tr>\n",
       "    <tr>\n",
       "      <th>GarageCars</th>\n",
       "      <td>0.016570</td>\n",
       "      <td>-0.040110</td>\n",
       "      <td>0.285691</td>\n",
       "      <td>0.154871</td>\n",
       "      <td>0.600671</td>\n",
       "      <td>-0.185758</td>\n",
       "      <td>0.537850</td>\n",
       "      <td>0.420622</td>\n",
       "      <td>0.364204</td>\n",
       "      <td>0.224054</td>\n",
       "      <td>...</td>\n",
       "      <td>0.226342</td>\n",
       "      <td>0.213569</td>\n",
       "      <td>-0.151434</td>\n",
       "      <td>0.035765</td>\n",
       "      <td>0.050494</td>\n",
       "      <td>0.020934</td>\n",
       "      <td>-0.043080</td>\n",
       "      <td>0.040522</td>\n",
       "      <td>-0.039117</td>\n",
       "      <td>0.640409</td>\n",
       "    </tr>\n",
       "    <tr>\n",
       "      <th>GarageArea</th>\n",
       "      <td>0.017634</td>\n",
       "      <td>-0.098672</td>\n",
       "      <td>0.344997</td>\n",
       "      <td>0.180403</td>\n",
       "      <td>0.562022</td>\n",
       "      <td>-0.151521</td>\n",
       "      <td>0.478954</td>\n",
       "      <td>0.371600</td>\n",
       "      <td>0.373066</td>\n",
       "      <td>0.296970</td>\n",
       "      <td>...</td>\n",
       "      <td>0.224666</td>\n",
       "      <td>0.241435</td>\n",
       "      <td>-0.121777</td>\n",
       "      <td>0.035087</td>\n",
       "      <td>0.051412</td>\n",
       "      <td>0.061047</td>\n",
       "      <td>-0.027400</td>\n",
       "      <td>0.027974</td>\n",
       "      <td>-0.027378</td>\n",
       "      <td>0.623431</td>\n",
       "    </tr>\n",
       "    <tr>\n",
       "      <th>WoodDeckSF</th>\n",
       "      <td>-0.029643</td>\n",
       "      <td>-0.012579</td>\n",
       "      <td>0.088521</td>\n",
       "      <td>0.171698</td>\n",
       "      <td>0.238923</td>\n",
       "      <td>-0.003334</td>\n",
       "      <td>0.224880</td>\n",
       "      <td>0.205726</td>\n",
       "      <td>0.159718</td>\n",
       "      <td>0.204306</td>\n",
       "      <td>...</td>\n",
       "      <td>1.000000</td>\n",
       "      <td>0.058661</td>\n",
       "      <td>-0.125989</td>\n",
       "      <td>-0.032771</td>\n",
       "      <td>-0.074181</td>\n",
       "      <td>0.073378</td>\n",
       "      <td>-0.009551</td>\n",
       "      <td>0.021011</td>\n",
       "      <td>0.022270</td>\n",
       "      <td>0.324413</td>\n",
       "    </tr>\n",
       "    <tr>\n",
       "      <th>OpenPorchSF</th>\n",
       "      <td>-0.000477</td>\n",
       "      <td>-0.006100</td>\n",
       "      <td>0.151972</td>\n",
       "      <td>0.084774</td>\n",
       "      <td>0.308819</td>\n",
       "      <td>-0.032589</td>\n",
       "      <td>0.188686</td>\n",
       "      <td>0.226298</td>\n",
       "      <td>0.125703</td>\n",
       "      <td>0.111761</td>\n",
       "      <td>...</td>\n",
       "      <td>0.058661</td>\n",
       "      <td>1.000000</td>\n",
       "      <td>-0.093079</td>\n",
       "      <td>-0.005842</td>\n",
       "      <td>0.074304</td>\n",
       "      <td>0.060762</td>\n",
       "      <td>-0.018584</td>\n",
       "      <td>0.071255</td>\n",
       "      <td>-0.057619</td>\n",
       "      <td>0.315856</td>\n",
       "    </tr>\n",
       "    <tr>\n",
       "      <th>EnclosedPorch</th>\n",
       "      <td>0.002889</td>\n",
       "      <td>-0.012037</td>\n",
       "      <td>0.010700</td>\n",
       "      <td>-0.018340</td>\n",
       "      <td>-0.113937</td>\n",
       "      <td>0.070356</td>\n",
       "      <td>-0.387268</td>\n",
       "      <td>-0.193919</td>\n",
       "      <td>-0.110204</td>\n",
       "      <td>-0.102303</td>\n",
       "      <td>...</td>\n",
       "      <td>-0.125989</td>\n",
       "      <td>-0.093079</td>\n",
       "      <td>1.000000</td>\n",
       "      <td>-0.037305</td>\n",
       "      <td>-0.082864</td>\n",
       "      <td>0.054203</td>\n",
       "      <td>0.018361</td>\n",
       "      <td>-0.028887</td>\n",
       "      <td>-0.009916</td>\n",
       "      <td>-0.128578</td>\n",
       "    </tr>\n",
       "    <tr>\n",
       "      <th>3SsnPorch</th>\n",
       "      <td>-0.046635</td>\n",
       "      <td>-0.043825</td>\n",
       "      <td>0.070029</td>\n",
       "      <td>0.020423</td>\n",
       "      <td>0.030371</td>\n",
       "      <td>0.025504</td>\n",
       "      <td>0.031355</td>\n",
       "      <td>0.045286</td>\n",
       "      <td>0.018796</td>\n",
       "      <td>0.026451</td>\n",
       "      <td>...</td>\n",
       "      <td>-0.032771</td>\n",
       "      <td>-0.005842</td>\n",
       "      <td>-0.037305</td>\n",
       "      <td>1.000000</td>\n",
       "      <td>-0.031436</td>\n",
       "      <td>-0.007992</td>\n",
       "      <td>0.000354</td>\n",
       "      <td>0.029474</td>\n",
       "      <td>0.018645</td>\n",
       "      <td>0.044584</td>\n",
       "    </tr>\n",
       "    <tr>\n",
       "      <th>ScreenPorch</th>\n",
       "      <td>0.001330</td>\n",
       "      <td>-0.026030</td>\n",
       "      <td>0.041383</td>\n",
       "      <td>0.043160</td>\n",
       "      <td>0.064886</td>\n",
       "      <td>0.054811</td>\n",
       "      <td>-0.050364</td>\n",
       "      <td>-0.038740</td>\n",
       "      <td>0.061466</td>\n",
       "      <td>0.062021</td>\n",
       "      <td>...</td>\n",
       "      <td>-0.074181</td>\n",
       "      <td>0.074304</td>\n",
       "      <td>-0.082864</td>\n",
       "      <td>-0.031436</td>\n",
       "      <td>1.000000</td>\n",
       "      <td>0.051307</td>\n",
       "      <td>0.031946</td>\n",
       "      <td>0.023217</td>\n",
       "      <td>0.010694</td>\n",
       "      <td>0.111447</td>\n",
       "    </tr>\n",
       "    <tr>\n",
       "      <th>PoolArea</th>\n",
       "      <td>0.057044</td>\n",
       "      <td>0.008283</td>\n",
       "      <td>0.206167</td>\n",
       "      <td>0.077672</td>\n",
       "      <td>0.065166</td>\n",
       "      <td>-0.001985</td>\n",
       "      <td>0.004950</td>\n",
       "      <td>0.005829</td>\n",
       "      <td>0.011723</td>\n",
       "      <td>0.140491</td>\n",
       "      <td>...</td>\n",
       "      <td>0.073378</td>\n",
       "      <td>0.060762</td>\n",
       "      <td>0.054203</td>\n",
       "      <td>-0.007992</td>\n",
       "      <td>0.051307</td>\n",
       "      <td>1.000000</td>\n",
       "      <td>0.029669</td>\n",
       "      <td>-0.033737</td>\n",
       "      <td>-0.059689</td>\n",
       "      <td>0.092404</td>\n",
       "    </tr>\n",
       "    <tr>\n",
       "      <th>MiscVal</th>\n",
       "      <td>-0.006242</td>\n",
       "      <td>-0.007683</td>\n",
       "      <td>0.003368</td>\n",
       "      <td>0.038068</td>\n",
       "      <td>-0.031406</td>\n",
       "      <td>0.068777</td>\n",
       "      <td>-0.034383</td>\n",
       "      <td>-0.010286</td>\n",
       "      <td>-0.029815</td>\n",
       "      <td>0.003571</td>\n",
       "      <td>...</td>\n",
       "      <td>-0.009551</td>\n",
       "      <td>-0.018584</td>\n",
       "      <td>0.018361</td>\n",
       "      <td>0.000354</td>\n",
       "      <td>0.031946</td>\n",
       "      <td>0.029669</td>\n",
       "      <td>1.000000</td>\n",
       "      <td>-0.006495</td>\n",
       "      <td>0.004906</td>\n",
       "      <td>-0.021190</td>\n",
       "    </tr>\n",
       "    <tr>\n",
       "      <th>MoSold</th>\n",
       "      <td>0.021172</td>\n",
       "      <td>-0.013585</td>\n",
       "      <td>0.011200</td>\n",
       "      <td>0.001205</td>\n",
       "      <td>0.070815</td>\n",
       "      <td>-0.003511</td>\n",
       "      <td>0.012398</td>\n",
       "      <td>0.021490</td>\n",
       "      <td>-0.005965</td>\n",
       "      <td>-0.015727</td>\n",
       "      <td>...</td>\n",
       "      <td>0.021011</td>\n",
       "      <td>0.071255</td>\n",
       "      <td>-0.028887</td>\n",
       "      <td>0.029474</td>\n",
       "      <td>0.023217</td>\n",
       "      <td>-0.033737</td>\n",
       "      <td>-0.006495</td>\n",
       "      <td>1.000000</td>\n",
       "      <td>-0.145721</td>\n",
       "      <td>0.046432</td>\n",
       "    </tr>\n",
       "    <tr>\n",
       "      <th>YrSold</th>\n",
       "      <td>0.000712</td>\n",
       "      <td>-0.021407</td>\n",
       "      <td>0.007450</td>\n",
       "      <td>-0.014261</td>\n",
       "      <td>-0.027347</td>\n",
       "      <td>0.043950</td>\n",
       "      <td>-0.013618</td>\n",
       "      <td>0.035743</td>\n",
       "      <td>-0.008201</td>\n",
       "      <td>0.014359</td>\n",
       "      <td>...</td>\n",
       "      <td>0.022270</td>\n",
       "      <td>-0.057619</td>\n",
       "      <td>-0.009916</td>\n",
       "      <td>0.018645</td>\n",
       "      <td>0.010694</td>\n",
       "      <td>-0.059689</td>\n",
       "      <td>0.004906</td>\n",
       "      <td>-0.145721</td>\n",
       "      <td>1.000000</td>\n",
       "      <td>-0.028923</td>\n",
       "    </tr>\n",
       "    <tr>\n",
       "      <th>SalePrice</th>\n",
       "      <td>-0.021917</td>\n",
       "      <td>-0.084284</td>\n",
       "      <td>0.351799</td>\n",
       "      <td>0.263843</td>\n",
       "      <td>0.790982</td>\n",
       "      <td>-0.077856</td>\n",
       "      <td>0.522897</td>\n",
       "      <td>0.507101</td>\n",
       "      <td>0.477493</td>\n",
       "      <td>0.386420</td>\n",
       "      <td>...</td>\n",
       "      <td>0.324413</td>\n",
       "      <td>0.315856</td>\n",
       "      <td>-0.128578</td>\n",
       "      <td>0.044584</td>\n",
       "      <td>0.111447</td>\n",
       "      <td>0.092404</td>\n",
       "      <td>-0.021190</td>\n",
       "      <td>0.046432</td>\n",
       "      <td>-0.028923</td>\n",
       "      <td>1.000000</td>\n",
       "    </tr>\n",
       "  </tbody>\n",
       "</table>\n",
       "<p>38 rows × 38 columns</p>\n",
       "</div>"
      ],
      "text/plain": [
       "                     Id  MSSubClass  LotFrontage   LotArea  OverallQual  \\\n",
       "Id             1.000000    0.011156    -0.010601 -0.033226    -0.028365   \n",
       "MSSubClass     0.011156    1.000000    -0.386347 -0.139781     0.032628   \n",
       "LotFrontage   -0.010601   -0.386347     1.000000  0.426095     0.251646   \n",
       "LotArea       -0.033226   -0.139781     0.426095  1.000000     0.105806   \n",
       "OverallQual   -0.028365    0.032628     0.251646  0.105806     1.000000   \n",
       "OverallCond    0.012609   -0.059316    -0.059213 -0.005636    -0.091932   \n",
       "YearBuilt     -0.012713    0.027850     0.123349  0.014228     0.572323   \n",
       "YearRemodAdd  -0.021998    0.040581     0.088866  0.013788     0.550684   \n",
       "MasVnrArea    -0.050298    0.022936     0.193458  0.104160     0.411876   \n",
       "BsmtFinSF1    -0.005024   -0.069836     0.233633  0.214103     0.239666   \n",
       "BsmtFinSF2    -0.005968   -0.065649     0.049900  0.111170    -0.059119   \n",
       "BsmtUnfSF     -0.007940   -0.140759     0.132644 -0.002618     0.308159   \n",
       "TotalBsmtSF   -0.015415   -0.238518     0.392075  0.260833     0.537808   \n",
       "1stFlrSF       0.010496   -0.251758     0.457181  0.299475     0.476224   \n",
       "2ndFlrSF       0.005590    0.307886     0.080177  0.050986     0.295493   \n",
       "LowQualFinSF  -0.044230    0.046474     0.038469  0.004779    -0.030429   \n",
       "GrLivArea      0.008273    0.074853     0.402797  0.263116     0.593007   \n",
       "BsmtFullBath   0.002289    0.003491     0.100949  0.158155     0.111098   \n",
       "BsmtHalfBath  -0.020155   -0.002333    -0.007234  0.048046    -0.040150   \n",
       "FullBath       0.005587    0.131608     0.198769  0.126031     0.550600   \n",
       "HalfBath       0.006784    0.177354     0.053532  0.014259     0.273458   \n",
       "BedroomAbvGr   0.037719   -0.023438     0.263170  0.119690     0.101676   \n",
       "KitchenAbvGr   0.002951    0.281721    -0.006069 -0.017784    -0.183882   \n",
       "TotRmsAbvGrd   0.027239    0.040380     0.352096  0.190015     0.427452   \n",
       "Fireplaces    -0.019772   -0.045569     0.266639  0.271364     0.396765   \n",
       "GarageYrBlt    0.000072    0.085072     0.070250 -0.024947     0.547766   \n",
       "GarageCars     0.016570   -0.040110     0.285691  0.154871     0.600671   \n",
       "GarageArea     0.017634   -0.098672     0.344997  0.180403     0.562022   \n",
       "WoodDeckSF    -0.029643   -0.012579     0.088521  0.171698     0.238923   \n",
       "OpenPorchSF   -0.000477   -0.006100     0.151972  0.084774     0.308819   \n",
       "EnclosedPorch  0.002889   -0.012037     0.010700 -0.018340    -0.113937   \n",
       "3SsnPorch     -0.046635   -0.043825     0.070029  0.020423     0.030371   \n",
       "ScreenPorch    0.001330   -0.026030     0.041383  0.043160     0.064886   \n",
       "PoolArea       0.057044    0.008283     0.206167  0.077672     0.065166   \n",
       "MiscVal       -0.006242   -0.007683     0.003368  0.038068    -0.031406   \n",
       "MoSold         0.021172   -0.013585     0.011200  0.001205     0.070815   \n",
       "YrSold         0.000712   -0.021407     0.007450 -0.014261    -0.027347   \n",
       "SalePrice     -0.021917   -0.084284     0.351799  0.263843     0.790982   \n",
       "\n",
       "               OverallCond  YearBuilt  YearRemodAdd  MasVnrArea  BsmtFinSF1  \\\n",
       "Id                0.012609  -0.012713     -0.021998   -0.050298   -0.005024   \n",
       "MSSubClass       -0.059316   0.027850      0.040581    0.022936   -0.069836   \n",
       "LotFrontage      -0.059213   0.123349      0.088866    0.193458    0.233633   \n",
       "LotArea          -0.005636   0.014228      0.013788    0.104160    0.214103   \n",
       "OverallQual      -0.091932   0.572323      0.550684    0.411876    0.239666   \n",
       "OverallCond       1.000000  -0.375983      0.073741   -0.128101   -0.046231   \n",
       "YearBuilt        -0.375983   1.000000      0.592855    0.315707    0.249503   \n",
       "YearRemodAdd      0.073741   0.592855      1.000000    0.179618    0.128451   \n",
       "MasVnrArea       -0.128101   0.315707      0.179618    1.000000    0.264736   \n",
       "BsmtFinSF1       -0.046231   0.249503      0.128451    0.264736    1.000000   \n",
       "BsmtFinSF2        0.040229  -0.049107     -0.067759   -0.072319   -0.050117   \n",
       "BsmtUnfSF        -0.136841   0.149040      0.181133    0.114442   -0.495251   \n",
       "TotalBsmtSF      -0.171098   0.391452      0.291066    0.363936    0.522396   \n",
       "1stFlrSF         -0.144203   0.281986      0.240379    0.344501    0.445863   \n",
       "2ndFlrSF          0.028942   0.010308      0.140024    0.174561   -0.137079   \n",
       "LowQualFinSF      0.025494  -0.183784     -0.062419   -0.069071   -0.064503   \n",
       "GrLivArea        -0.079686   0.199010      0.287389    0.390857    0.208171   \n",
       "BsmtFullBath     -0.054942   0.187599      0.119470    0.085310    0.649212   \n",
       "BsmtHalfBath      0.117821  -0.038162     -0.012337    0.026673    0.067418   \n",
       "FullBath         -0.194149   0.468271      0.439046    0.276833    0.058543   \n",
       "HalfBath         -0.060769   0.242656      0.183331    0.201444    0.004262   \n",
       "BedroomAbvGr      0.012980  -0.070651     -0.040581    0.102821   -0.107355   \n",
       "KitchenAbvGr     -0.087001  -0.174800     -0.149598   -0.037610   -0.081007   \n",
       "TotRmsAbvGrd     -0.057583   0.095589      0.191740    0.280682    0.044316   \n",
       "Fireplaces       -0.023820   0.147716      0.112581    0.249070    0.260011   \n",
       "GarageYrBlt      -0.324297   0.825667      0.642277    0.252691    0.153484   \n",
       "GarageCars       -0.185758   0.537850      0.420622    0.364204    0.224054   \n",
       "GarageArea       -0.151521   0.478954      0.371600    0.373066    0.296970   \n",
       "WoodDeckSF       -0.003334   0.224880      0.205726    0.159718    0.204306   \n",
       "OpenPorchSF      -0.032589   0.188686      0.226298    0.125703    0.111761   \n",
       "EnclosedPorch     0.070356  -0.387268     -0.193919   -0.110204   -0.102303   \n",
       "3SsnPorch         0.025504   0.031355      0.045286    0.018796    0.026451   \n",
       "ScreenPorch       0.054811  -0.050364     -0.038740    0.061466    0.062021   \n",
       "PoolArea         -0.001985   0.004950      0.005829    0.011723    0.140491   \n",
       "MiscVal           0.068777  -0.034383     -0.010286   -0.029815    0.003571   \n",
       "MoSold           -0.003511   0.012398      0.021490   -0.005965   -0.015727   \n",
       "YrSold            0.043950  -0.013618      0.035743   -0.008201    0.014359   \n",
       "SalePrice        -0.077856   0.522897      0.507101    0.477493    0.386420   \n",
       "\n",
       "               ...  WoodDeckSF  OpenPorchSF  EnclosedPorch  3SsnPorch  \\\n",
       "Id             ...   -0.029643    -0.000477       0.002889  -0.046635   \n",
       "MSSubClass     ...   -0.012579    -0.006100      -0.012037  -0.043825   \n",
       "LotFrontage    ...    0.088521     0.151972       0.010700   0.070029   \n",
       "LotArea        ...    0.171698     0.084774      -0.018340   0.020423   \n",
       "OverallQual    ...    0.238923     0.308819      -0.113937   0.030371   \n",
       "OverallCond    ...   -0.003334    -0.032589       0.070356   0.025504   \n",
       "YearBuilt      ...    0.224880     0.188686      -0.387268   0.031355   \n",
       "YearRemodAdd   ...    0.205726     0.226298      -0.193919   0.045286   \n",
       "MasVnrArea     ...    0.159718     0.125703      -0.110204   0.018796   \n",
       "BsmtFinSF1     ...    0.204306     0.111761      -0.102303   0.026451   \n",
       "BsmtFinSF2     ...    0.067898     0.003093       0.036543  -0.029993   \n",
       "BsmtUnfSF      ...   -0.005316     0.129005      -0.002538   0.020764   \n",
       "TotalBsmtSF    ...    0.232019     0.247264      -0.095478   0.037384   \n",
       "1stFlrSF       ...    0.235459     0.211671      -0.065292   0.056104   \n",
       "2ndFlrSF       ...    0.092165     0.208026       0.061989  -0.024358   \n",
       "LowQualFinSF   ...   -0.025444     0.018251       0.061081  -0.004296   \n",
       "GrLivArea      ...    0.247433     0.330224       0.009113   0.020643   \n",
       "BsmtFullBath   ...    0.175315     0.067341      -0.049911  -0.000106   \n",
       "BsmtHalfBath   ...    0.040161    -0.025324      -0.008555   0.035114   \n",
       "FullBath       ...    0.187703     0.259977      -0.115093   0.035353   \n",
       "HalfBath       ...    0.108080     0.199740      -0.095317  -0.004972   \n",
       "BedroomAbvGr   ...    0.046854     0.093810       0.041570  -0.024478   \n",
       "KitchenAbvGr   ...   -0.090130    -0.070091       0.037312  -0.024600   \n",
       "TotRmsAbvGrd   ...    0.165984     0.234192       0.004151  -0.006683   \n",
       "Fireplaces     ...    0.200019     0.169405      -0.024822   0.011257   \n",
       "GarageYrBlt    ...    0.224577     0.228425      -0.297003   0.023544   \n",
       "GarageCars     ...    0.226342     0.213569      -0.151434   0.035765   \n",
       "GarageArea     ...    0.224666     0.241435      -0.121777   0.035087   \n",
       "WoodDeckSF     ...    1.000000     0.058661      -0.125989  -0.032771   \n",
       "OpenPorchSF    ...    0.058661     1.000000      -0.093079  -0.005842   \n",
       "EnclosedPorch  ...   -0.125989    -0.093079       1.000000  -0.037305   \n",
       "3SsnPorch      ...   -0.032771    -0.005842      -0.037305   1.000000   \n",
       "ScreenPorch    ...   -0.074181     0.074304      -0.082864  -0.031436   \n",
       "PoolArea       ...    0.073378     0.060762       0.054203  -0.007992   \n",
       "MiscVal        ...   -0.009551    -0.018584       0.018361   0.000354   \n",
       "MoSold         ...    0.021011     0.071255      -0.028887   0.029474   \n",
       "YrSold         ...    0.022270    -0.057619      -0.009916   0.018645   \n",
       "SalePrice      ...    0.324413     0.315856      -0.128578   0.044584   \n",
       "\n",
       "               ScreenPorch  PoolArea   MiscVal    MoSold    YrSold  SalePrice  \n",
       "Id                0.001330  0.057044 -0.006242  0.021172  0.000712  -0.021917  \n",
       "MSSubClass       -0.026030  0.008283 -0.007683 -0.013585 -0.021407  -0.084284  \n",
       "LotFrontage       0.041383  0.206167  0.003368  0.011200  0.007450   0.351799  \n",
       "LotArea           0.043160  0.077672  0.038068  0.001205 -0.014261   0.263843  \n",
       "OverallQual       0.064886  0.065166 -0.031406  0.070815 -0.027347   0.790982  \n",
       "OverallCond       0.054811 -0.001985  0.068777 -0.003511  0.043950  -0.077856  \n",
       "YearBuilt        -0.050364  0.004950 -0.034383  0.012398 -0.013618   0.522897  \n",
       "YearRemodAdd     -0.038740  0.005829 -0.010286  0.021490  0.035743   0.507101  \n",
       "MasVnrArea        0.061466  0.011723 -0.029815 -0.005965 -0.008201   0.477493  \n",
       "BsmtFinSF1        0.062021  0.140491  0.003571 -0.015727  0.014359   0.386420  \n",
       "BsmtFinSF2        0.088871  0.041709  0.004940 -0.015211  0.031706  -0.011378  \n",
       "BsmtUnfSF        -0.012579 -0.035092 -0.023837  0.034888 -0.041258   0.214479  \n",
       "TotalBsmtSF       0.084489  0.126053 -0.018479  0.013196 -0.014969   0.613581  \n",
       "1stFlrSF          0.088758  0.131525 -0.021096  0.031372 -0.013604   0.605852  \n",
       "2ndFlrSF          0.040606  0.081487  0.016197  0.035164 -0.028700   0.319334  \n",
       "LowQualFinSF      0.026799  0.062157 -0.003793 -0.022174 -0.028921  -0.025606  \n",
       "GrLivArea         0.101510  0.170205 -0.002416  0.050240 -0.036526   0.708624  \n",
       "BsmtFullBath      0.023148  0.067616 -0.023047 -0.025361  0.067049   0.227122  \n",
       "BsmtHalfBath      0.032121  0.020025 -0.007367  0.032873 -0.046524  -0.016844  \n",
       "FullBath         -0.008106  0.049604 -0.014290  0.055872 -0.019669   0.560664  \n",
       "HalfBath          0.072426  0.022381  0.001290 -0.009050 -0.010269   0.284108  \n",
       "BedroomAbvGr      0.044300  0.070703  0.007767  0.046544 -0.036014   0.168213  \n",
       "KitchenAbvGr     -0.051613 -0.014525  0.062341  0.026589  0.031687  -0.135907  \n",
       "TotRmsAbvGrd      0.059383  0.083757  0.024763  0.036907 -0.034516   0.533723  \n",
       "Fireplaces        0.184530  0.095074  0.001409  0.046357 -0.024096   0.466929  \n",
       "GarageYrBlt      -0.075418 -0.014501 -0.032417  0.005337 -0.001014   0.486362  \n",
       "GarageCars        0.050494  0.020934 -0.043080  0.040522 -0.039117   0.640409  \n",
       "GarageArea        0.051412  0.061047 -0.027400  0.027974 -0.027378   0.623431  \n",
       "WoodDeckSF       -0.074181  0.073378 -0.009551  0.021011  0.022270   0.324413  \n",
       "OpenPorchSF       0.074304  0.060762 -0.018584  0.071255 -0.057619   0.315856  \n",
       "EnclosedPorch    -0.082864  0.054203  0.018361 -0.028887 -0.009916  -0.128578  \n",
       "3SsnPorch        -0.031436 -0.007992  0.000354  0.029474  0.018645   0.044584  \n",
       "ScreenPorch       1.000000  0.051307  0.031946  0.023217  0.010694   0.111447  \n",
       "PoolArea          0.051307  1.000000  0.029669 -0.033737 -0.059689   0.092404  \n",
       "MiscVal           0.031946  0.029669  1.000000 -0.006495  0.004906  -0.021190  \n",
       "MoSold            0.023217 -0.033737 -0.006495  1.000000 -0.145721   0.046432  \n",
       "YrSold            0.010694 -0.059689  0.004906 -0.145721  1.000000  -0.028923  \n",
       "SalePrice         0.111447  0.092404 -0.021190  0.046432 -0.028923   1.000000  \n",
       "\n",
       "[38 rows x 38 columns]"
      ]
     },
     "execution_count": 4,
     "metadata": {},
     "output_type": "execute_result"
    }
   ],
   "source": [
    "# Checking the correlations between features\n",
    "\n",
    "df1_corr = df1.corr()\n",
    "df1_corr"
   ]
  },
  {
   "cell_type": "code",
   "execution_count": 5,
   "metadata": {
    "execution": {
     "iopub.execute_input": "2020-09-16T23:38:17.022464Z",
     "iopub.status.busy": "2020-09-16T23:38:17.021720Z",
     "iopub.status.idle": "2020-09-16T23:38:17.029936Z",
     "shell.execute_reply": "2020-09-16T23:38:17.030430Z"
    },
    "papermill": {
     "duration": 0.065322,
     "end_time": "2020-09-16T23:38:17.030578",
     "exception": false,
     "start_time": "2020-09-16T23:38:16.965256",
     "status": "completed"
    },
    "tags": []
   },
   "outputs": [
    {
     "data": {
      "text/plain": [
       "SalePrice       1.000000\n",
       "OverallQual     0.790982\n",
       "GrLivArea       0.708624\n",
       "GarageCars      0.640409\n",
       "GarageArea      0.623431\n",
       "TotalBsmtSF     0.613581\n",
       "1stFlrSF        0.605852\n",
       "FullBath        0.560664\n",
       "TotRmsAbvGrd    0.533723\n",
       "YearBuilt       0.522897\n",
       "Name: SalePrice, dtype: float64"
      ]
     },
     "execution_count": 5,
     "metadata": {},
     "output_type": "execute_result"
    }
   ],
   "source": [
    "# Rank the correlation between the features and target (SalePrice)\n",
    "\n",
    "df1_corr_order = df1_corr.iloc[37,:].sort_values(ascending = False)\n",
    "df1_corr_order.head(10)"
   ]
  },
  {
   "cell_type": "markdown",
   "metadata": {
    "papermill": {
     "duration": 0.051807,
     "end_time": "2020-09-16T23:38:17.134584",
     "exception": false,
     "start_time": "2020-09-16T23:38:17.082777",
     "status": "completed"
    },
    "tags": []
   },
   "source": [
    "It looks like the correlation of these values are higher than 0.6.\n",
    "\n",
    "[OverallQual, GrLivArea, GarageCars, GarageArea, TotalBsmtSF, 1stFlrSF]\n",
    "\n",
    "They seem to strongly correlate to the target (SalePrice)!\n",
    "\n",
    "Also, GrLivArea, GarageCars, GarageArea are describing the similar feature of the  garage, so **I could potentially only use the highest feature which is GrLivArea**.\n",
    "\n",
    "**Same thing can be said of TotalBsmtSF and 1stFlrSF**, because basically the basement square feet and 1st floor square feet are the same/similar.\n",
    "\n",
    "Thus, I'm going to call OverallQual, GrLivArea, and TotalBsmtSF **\"Strong Features\"** and heavily use them to predict SalePrice."
   ]
  },
  {
   "cell_type": "code",
   "execution_count": 6,
   "metadata": {
    "execution": {
     "iopub.execute_input": "2020-09-16T23:38:17.242795Z",
     "iopub.status.busy": "2020-09-16T23:38:17.242064Z",
     "iopub.status.idle": "2020-09-16T23:38:17.253439Z",
     "shell.execute_reply": "2020-09-16T23:38:17.253991Z"
    },
    "papermill": {
     "duration": 0.06688,
     "end_time": "2020-09-16T23:38:17.254133",
     "exception": false,
     "start_time": "2020-09-16T23:38:17.187253",
     "status": "completed"
    },
    "tags": []
   },
   "outputs": [],
   "source": [
    "#Dropping SalePrice from train data\n",
    "\n",
    "df1_saleprice = df1[\"SalePrice\"]\n",
    "df2 = df1.drop(\"SalePrice\", axis = 1)"
   ]
  },
  {
   "cell_type": "markdown",
   "metadata": {
    "papermill": {
     "duration": 0.053092,
     "end_time": "2020-09-16T23:38:17.361109",
     "exception": false,
     "start_time": "2020-09-16T23:38:17.308017",
     "status": "completed"
    },
    "tags": []
   },
   "source": [
    "Now, I'm going to concatenate the train data and test data here.  \n",
    "Though it's supposed to be engineered saparetely, this won't significantly affect the result, and it makes this analysis easy to see."
   ]
  },
  {
   "cell_type": "code",
   "execution_count": 7,
   "metadata": {
    "execution": {
     "iopub.execute_input": "2020-09-16T23:38:17.470121Z",
     "iopub.status.busy": "2020-09-16T23:38:17.469513Z",
     "iopub.status.idle": "2020-09-16T23:38:17.491804Z",
     "shell.execute_reply": "2020-09-16T23:38:17.492350Z"
    },
    "papermill": {
     "duration": 0.079123,
     "end_time": "2020-09-16T23:38:17.492500",
     "exception": false,
     "start_time": "2020-09-16T23:38:17.413377",
     "status": "completed"
    },
    "tags": []
   },
   "outputs": [],
   "source": [
    "# Concating df2 and df_test1\n",
    "\n",
    "df_concat1 = pd.concat([df2, df_test1], axis = 0, ignore_index = True)"
   ]
  },
  {
   "cell_type": "code",
   "execution_count": 8,
   "metadata": {
    "execution": {
     "iopub.execute_input": "2020-09-16T23:38:17.601091Z",
     "iopub.status.busy": "2020-09-16T23:38:17.600481Z",
     "iopub.status.idle": "2020-09-16T23:38:17.612567Z",
     "shell.execute_reply": "2020-09-16T23:38:17.613111Z"
    },
    "papermill": {
     "duration": 0.068055,
     "end_time": "2020-09-16T23:38:17.613290",
     "exception": false,
     "start_time": "2020-09-16T23:38:17.545235",
     "status": "completed"
    },
    "tags": []
   },
   "outputs": [],
   "source": [
    "# Dropping \"Id\"\n",
    "\n",
    "df_concat2 = df_concat1.drop(\"Id\",1)"
   ]
  },
  {
   "cell_type": "markdown",
   "metadata": {
    "papermill": {
     "duration": 0.054753,
     "end_time": "2020-09-16T23:38:17.720933",
     "exception": false,
     "start_time": "2020-09-16T23:38:17.666180",
     "status": "completed"
    },
    "tags": []
   },
   "source": [
    "# ◆Checking null values"
   ]
  },
  {
   "cell_type": "code",
   "execution_count": 9,
   "metadata": {
    "execution": {
     "iopub.execute_input": "2020-09-16T23:38:17.831135Z",
     "iopub.status.busy": "2020-09-16T23:38:17.830514Z",
     "iopub.status.idle": "2020-09-16T23:38:17.882668Z",
     "shell.execute_reply": "2020-09-16T23:38:17.883309Z"
    },
    "papermill": {
     "duration": 0.108886,
     "end_time": "2020-09-16T23:38:17.883455",
     "exception": false,
     "start_time": "2020-09-16T23:38:17.774569",
     "status": "completed"
    },
    "tags": []
   },
   "outputs": [
    {
     "data": {
      "text/html": [
       "<div>\n",
       "<style scoped>\n",
       "    .dataframe tbody tr th:only-of-type {\n",
       "        vertical-align: middle;\n",
       "    }\n",
       "\n",
       "    .dataframe tbody tr th {\n",
       "        vertical-align: top;\n",
       "    }\n",
       "\n",
       "    .dataframe thead th {\n",
       "        text-align: right;\n",
       "    }\n",
       "</style>\n",
       "<table border=\"1\" class=\"dataframe\">\n",
       "  <thead>\n",
       "    <tr style=\"text-align: right;\">\n",
       "      <th></th>\n",
       "      <th>Null</th>\n",
       "      <th>Perc</th>\n",
       "    </tr>\n",
       "  </thead>\n",
       "  <tbody>\n",
       "    <tr>\n",
       "      <th>PoolQC</th>\n",
       "      <td>2909</td>\n",
       "      <td>99.657417</td>\n",
       "    </tr>\n",
       "    <tr>\n",
       "      <th>MiscFeature</th>\n",
       "      <td>2814</td>\n",
       "      <td>96.402878</td>\n",
       "    </tr>\n",
       "    <tr>\n",
       "      <th>Alley</th>\n",
       "      <td>2721</td>\n",
       "      <td>93.216855</td>\n",
       "    </tr>\n",
       "    <tr>\n",
       "      <th>Fence</th>\n",
       "      <td>2348</td>\n",
       "      <td>80.438506</td>\n",
       "    </tr>\n",
       "    <tr>\n",
       "      <th>FireplaceQu</th>\n",
       "      <td>1420</td>\n",
       "      <td>48.646797</td>\n",
       "    </tr>\n",
       "    <tr>\n",
       "      <th>LotFrontage</th>\n",
       "      <td>486</td>\n",
       "      <td>16.649538</td>\n",
       "    </tr>\n",
       "    <tr>\n",
       "      <th>GarageCond</th>\n",
       "      <td>159</td>\n",
       "      <td>5.447071</td>\n",
       "    </tr>\n",
       "    <tr>\n",
       "      <th>GarageQual</th>\n",
       "      <td>159</td>\n",
       "      <td>5.447071</td>\n",
       "    </tr>\n",
       "    <tr>\n",
       "      <th>GarageYrBlt</th>\n",
       "      <td>159</td>\n",
       "      <td>5.447071</td>\n",
       "    </tr>\n",
       "    <tr>\n",
       "      <th>GarageFinish</th>\n",
       "      <td>159</td>\n",
       "      <td>5.447071</td>\n",
       "    </tr>\n",
       "    <tr>\n",
       "      <th>GarageType</th>\n",
       "      <td>157</td>\n",
       "      <td>5.378554</td>\n",
       "    </tr>\n",
       "    <tr>\n",
       "      <th>BsmtCond</th>\n",
       "      <td>82</td>\n",
       "      <td>2.809181</td>\n",
       "    </tr>\n",
       "    <tr>\n",
       "      <th>BsmtExposure</th>\n",
       "      <td>82</td>\n",
       "      <td>2.809181</td>\n",
       "    </tr>\n",
       "    <tr>\n",
       "      <th>BsmtQual</th>\n",
       "      <td>81</td>\n",
       "      <td>2.774923</td>\n",
       "    </tr>\n",
       "    <tr>\n",
       "      <th>BsmtFinType2</th>\n",
       "      <td>80</td>\n",
       "      <td>2.740665</td>\n",
       "    </tr>\n",
       "    <tr>\n",
       "      <th>BsmtFinType1</th>\n",
       "      <td>79</td>\n",
       "      <td>2.706406</td>\n",
       "    </tr>\n",
       "    <tr>\n",
       "      <th>MasVnrType</th>\n",
       "      <td>24</td>\n",
       "      <td>0.822199</td>\n",
       "    </tr>\n",
       "    <tr>\n",
       "      <th>MasVnrArea</th>\n",
       "      <td>23</td>\n",
       "      <td>0.787941</td>\n",
       "    </tr>\n",
       "    <tr>\n",
       "      <th>MSZoning</th>\n",
       "      <td>4</td>\n",
       "      <td>0.137033</td>\n",
       "    </tr>\n",
       "    <tr>\n",
       "      <th>BsmtHalfBath</th>\n",
       "      <td>2</td>\n",
       "      <td>0.068517</td>\n",
       "    </tr>\n",
       "    <tr>\n",
       "      <th>Utilities</th>\n",
       "      <td>2</td>\n",
       "      <td>0.068517</td>\n",
       "    </tr>\n",
       "    <tr>\n",
       "      <th>Functional</th>\n",
       "      <td>2</td>\n",
       "      <td>0.068517</td>\n",
       "    </tr>\n",
       "    <tr>\n",
       "      <th>BsmtFullBath</th>\n",
       "      <td>2</td>\n",
       "      <td>0.068517</td>\n",
       "    </tr>\n",
       "    <tr>\n",
       "      <th>BsmtFinSF2</th>\n",
       "      <td>1</td>\n",
       "      <td>0.034258</td>\n",
       "    </tr>\n",
       "    <tr>\n",
       "      <th>BsmtFinSF1</th>\n",
       "      <td>1</td>\n",
       "      <td>0.034258</td>\n",
       "    </tr>\n",
       "    <tr>\n",
       "      <th>Exterior2nd</th>\n",
       "      <td>1</td>\n",
       "      <td>0.034258</td>\n",
       "    </tr>\n",
       "    <tr>\n",
       "      <th>BsmtUnfSF</th>\n",
       "      <td>1</td>\n",
       "      <td>0.034258</td>\n",
       "    </tr>\n",
       "    <tr>\n",
       "      <th>TotalBsmtSF</th>\n",
       "      <td>1</td>\n",
       "      <td>0.034258</td>\n",
       "    </tr>\n",
       "    <tr>\n",
       "      <th>Exterior1st</th>\n",
       "      <td>1</td>\n",
       "      <td>0.034258</td>\n",
       "    </tr>\n",
       "    <tr>\n",
       "      <th>SaleType</th>\n",
       "      <td>1</td>\n",
       "      <td>0.034258</td>\n",
       "    </tr>\n",
       "    <tr>\n",
       "      <th>Electrical</th>\n",
       "      <td>1</td>\n",
       "      <td>0.034258</td>\n",
       "    </tr>\n",
       "    <tr>\n",
       "      <th>KitchenQual</th>\n",
       "      <td>1</td>\n",
       "      <td>0.034258</td>\n",
       "    </tr>\n",
       "    <tr>\n",
       "      <th>GarageArea</th>\n",
       "      <td>1</td>\n",
       "      <td>0.034258</td>\n",
       "    </tr>\n",
       "    <tr>\n",
       "      <th>GarageCars</th>\n",
       "      <td>1</td>\n",
       "      <td>0.034258</td>\n",
       "    </tr>\n",
       "    <tr>\n",
       "      <th>OverallQual</th>\n",
       "      <td>0</td>\n",
       "      <td>0.000000</td>\n",
       "    </tr>\n",
       "    <tr>\n",
       "      <th>OverallCond</th>\n",
       "      <td>0</td>\n",
       "      <td>0.000000</td>\n",
       "    </tr>\n",
       "    <tr>\n",
       "      <th>LotArea</th>\n",
       "      <td>0</td>\n",
       "      <td>0.000000</td>\n",
       "    </tr>\n",
       "    <tr>\n",
       "      <th>Street</th>\n",
       "      <td>0</td>\n",
       "      <td>0.000000</td>\n",
       "    </tr>\n",
       "    <tr>\n",
       "      <th>LotShape</th>\n",
       "      <td>0</td>\n",
       "      <td>0.000000</td>\n",
       "    </tr>\n",
       "    <tr>\n",
       "      <th>LandContour</th>\n",
       "      <td>0</td>\n",
       "      <td>0.000000</td>\n",
       "    </tr>\n",
       "  </tbody>\n",
       "</table>\n",
       "</div>"
      ],
      "text/plain": [
       "              Null       Perc\n",
       "PoolQC        2909  99.657417\n",
       "MiscFeature   2814  96.402878\n",
       "Alley         2721  93.216855\n",
       "Fence         2348  80.438506\n",
       "FireplaceQu   1420  48.646797\n",
       "LotFrontage    486  16.649538\n",
       "GarageCond     159   5.447071\n",
       "GarageQual     159   5.447071\n",
       "GarageYrBlt    159   5.447071\n",
       "GarageFinish   159   5.447071\n",
       "GarageType     157   5.378554\n",
       "BsmtCond        82   2.809181\n",
       "BsmtExposure    82   2.809181\n",
       "BsmtQual        81   2.774923\n",
       "BsmtFinType2    80   2.740665\n",
       "BsmtFinType1    79   2.706406\n",
       "MasVnrType      24   0.822199\n",
       "MasVnrArea      23   0.787941\n",
       "MSZoning         4   0.137033\n",
       "BsmtHalfBath     2   0.068517\n",
       "Utilities        2   0.068517\n",
       "Functional       2   0.068517\n",
       "BsmtFullBath     2   0.068517\n",
       "BsmtFinSF2       1   0.034258\n",
       "BsmtFinSF1       1   0.034258\n",
       "Exterior2nd      1   0.034258\n",
       "BsmtUnfSF        1   0.034258\n",
       "TotalBsmtSF      1   0.034258\n",
       "Exterior1st      1   0.034258\n",
       "SaleType         1   0.034258\n",
       "Electrical       1   0.034258\n",
       "KitchenQual      1   0.034258\n",
       "GarageArea       1   0.034258\n",
       "GarageCars       1   0.034258\n",
       "OverallQual      0   0.000000\n",
       "OverallCond      0   0.000000\n",
       "LotArea          0   0.000000\n",
       "Street           0   0.000000\n",
       "LotShape         0   0.000000\n",
       "LandContour      0   0.000000"
      ]
     },
     "execution_count": 9,
     "metadata": {},
     "output_type": "execute_result"
    }
   ],
   "source": [
    "# Checking Null values\n",
    "\n",
    "null_numbers_40 = df_concat2.isnull().sum().sort_values(ascending = False).head(40)\n",
    "null_perc_40 = 100 * null_numbers_40 / 2919\n",
    "null_number_perc_40 = pd.concat([null_numbers_40, null_perc_40],axis = 1, keys = [\"Null\",\"Perc\"])\n",
    "null_number_perc_40"
   ]
  },
  {
   "cell_type": "markdown",
   "metadata": {
    "papermill": {
     "duration": 0.053265,
     "end_time": "2020-09-16T23:38:17.990660",
     "exception": false,
     "start_time": "2020-09-16T23:38:17.937395",
     "status": "completed"
    },
    "tags": []
   },
   "source": [
    "I'm going to delete the values with higher than 15% number of Null values, because they don't have a strong impact on the result. \n",
    "\n",
    "Also,**GarageCond, GarageQual, GarageYrBlt, GarageFinish, GarageType** are all about the garage, and **BsmtCond, BsmtExposure, BsmtQual, BsmtFinType2,BsmtFinType1** are about the basement.  \n",
    "As shown and mentioned earlier, GrLivArea and TotalBsmtSF have a strong correlation to SalePrice, so I'm only using these features, and dropping the others about the garage and the basement with a lot of Null values."
   ]
  },
  {
   "cell_type": "code",
   "execution_count": 10,
   "metadata": {
    "execution": {
     "iopub.execute_input": "2020-09-16T23:38:18.101262Z",
     "iopub.status.busy": "2020-09-16T23:38:18.100624Z",
     "iopub.status.idle": "2020-09-16T23:38:18.107687Z",
     "shell.execute_reply": "2020-09-16T23:38:18.108193Z"
    },
    "papermill": {
     "duration": 0.064203,
     "end_time": "2020-09-16T23:38:18.108347",
     "exception": false,
     "start_time": "2020-09-16T23:38:18.044144",
     "status": "completed"
    },
    "tags": []
   },
   "outputs": [],
   "source": [
    "# Dropping the features mentioned above (Null % is higher than 2%). \n",
    "\n",
    "df_concat3 = df_concat2.drop(null_number_perc_40[null_number_perc_40[\"Perc\"] > 2].index, 1)"
   ]
  },
  {
   "cell_type": "markdown",
   "metadata": {
    "papermill": {
     "duration": 0.053317,
     "end_time": "2020-09-16T23:38:18.215359",
     "exception": false,
     "start_time": "2020-09-16T23:38:18.162042",
     "status": "completed"
    },
    "tags": []
   },
   "source": [
    "# ◆Relationship between \"Strong Features\"\n",
    "\n",
    "Next, I'm going to check the relationship between Saleprice and the \"Strong Features\"(OverallQual, GrLivArea, and TotalBsmtSF).  \n",
    "(Here I'm using the data frame before concatenation(df2) because it is connected to SalePrice)"
   ]
  },
  {
   "cell_type": "code",
   "execution_count": 11,
   "metadata": {
    "execution": {
     "iopub.execute_input": "2020-09-16T23:38:18.331138Z",
     "iopub.status.busy": "2020-09-16T23:38:18.330411Z",
     "iopub.status.idle": "2020-09-16T23:38:18.652247Z",
     "shell.execute_reply": "2020-09-16T23:38:18.652732Z"
    },
    "papermill": {
     "duration": 0.384152,
     "end_time": "2020-09-16T23:38:18.652878",
     "exception": false,
     "start_time": "2020-09-16T23:38:18.268726",
     "status": "completed"
    },
    "tags": []
   },
   "outputs": [
    {
     "data": {
      "text/plain": [
       "<matplotlib.axes._subplots.AxesSubplot at 0x7f0a885dcf90>"
      ]
     },
     "execution_count": 11,
     "metadata": {},
     "output_type": "execute_result"
    },
    {
     "data": {
      "image/png": "[encoded data removed]",
      "text/plain": [
       "<Figure size 432x288 with 1 Axes>"
      ]
     },
     "metadata": {
      "needs_background": "light"
     },
     "output_type": "display_data"
    }
   ],
   "source": [
    "# OverallQual and SalePrice\n",
    "\n",
    "sns.boxplot(x = df2[\"OverallQual\"], y= df1_saleprice)"
   ]
  },
  {
   "cell_type": "code",
   "execution_count": 12,
   "metadata": {
    "execution": {
     "iopub.execute_input": "2020-09-16T23:38:18.767828Z",
     "iopub.status.busy": "2020-09-16T23:38:18.767151Z",
     "iopub.status.idle": "2020-09-16T23:38:18.933994Z",
     "shell.execute_reply": "2020-09-16T23:38:18.934570Z"
    },
    "papermill": {
     "duration": 0.225899,
     "end_time": "2020-09-16T23:38:18.934724",
     "exception": false,
     "start_time": "2020-09-16T23:38:18.708825",
     "status": "completed"
    },
    "tags": []
   },
   "outputs": [
    {
     "data": {
      "text/plain": [
       "<matplotlib.collections.PathCollection at 0x7f0a861c7ad0>"
      ]
     },
     "execution_count": 12,
     "metadata": {},
     "output_type": "execute_result"
    },
    {
     "data": {
      "image/png": "[encoded data removed]",
      "text/plain": [
       "<Figure size 432x288 with 1 Axes>"
      ]
     },
     "metadata": {
      "needs_background": "light"
     },
     "output_type": "display_data"
    }
   ],
   "source": [
    "# GrLivArea and SalePrice\n",
    "\n",
    "plt.scatter(df2[\"GrLivArea\"], df1_saleprice)"
   ]
  },
  {
   "cell_type": "markdown",
   "metadata": {
    "papermill": {
     "duration": 0.055974,
     "end_time": "2020-09-16T23:38:19.047613",
     "exception": false,
     "start_time": "2020-09-16T23:38:18.991639",
     "status": "completed"
    },
    "tags": []
   },
   "source": [
    "Here I can tell that there are 2 outliers which have GrLivArea which is too big for the price.   \n",
    "It could be a warehouse or something."
   ]
  },
  {
   "cell_type": "code",
   "execution_count": 13,
   "metadata": {
    "execution": {
     "iopub.execute_input": "2020-09-16T23:38:19.172332Z",
     "iopub.status.busy": "2020-09-16T23:38:19.171653Z",
     "iopub.status.idle": "2020-09-16T23:38:19.321622Z",
     "shell.execute_reply": "2020-09-16T23:38:19.320929Z"
    },
    "papermill": {
     "duration": 0.217933,
     "end_time": "2020-09-16T23:38:19.321737",
     "exception": false,
     "start_time": "2020-09-16T23:38:19.103804",
     "status": "completed"
    },
    "tags": []
   },
   "outputs": [
    {
     "data": {
      "text/plain": [
       "<matplotlib.collections.PathCollection at 0x7f0a86143c10>"
      ]
     },
     "execution_count": 13,
     "metadata": {},
     "output_type": "execute_result"
    },
    {
     "data": {
      "image/png": "[encoded data removed]",
      "text/plain": [
       "<Figure size 432x288 with 1 Axes>"
      ]
     },
     "metadata": {
      "needs_background": "light"
     },
     "output_type": "display_data"
    }
   ],
   "source": [
    "# TotalBsmtSF and SalePrice\n",
    "\n",
    "plt.scatter(df2[\"TotalBsmtSF\"], df1_saleprice)"
   ]
  },
  {
   "cell_type": "markdown",
   "metadata": {
    "papermill": {
     "duration": 0.076189,
     "end_time": "2020-09-16T23:38:19.475040",
     "exception": false,
     "start_time": "2020-09-16T23:38:19.398851",
     "status": "completed"
    },
    "tags": []
   },
   "source": [
    "Here I can see another outlier with too big of a basement for the price.\n",
    "Again, this could be a warehouse or something with a really big basement, and potentially this could be the same value as the one mentioned above about GrLivArea."
   ]
  },
  {
   "cell_type": "markdown",
   "metadata": {
    "papermill": {
     "duration": 0.057136,
     "end_time": "2020-09-16T23:38:19.593526",
     "exception": false,
     "start_time": "2020-09-16T23:38:19.536390",
     "status": "completed"
    },
    "tags": []
   },
   "source": [
    "# ◆Eliminating the outliers"
   ]
  },
  {
   "cell_type": "code",
   "execution_count": 14,
   "metadata": {
    "execution": {
     "iopub.execute_input": "2020-09-16T23:38:19.717121Z",
     "iopub.status.busy": "2020-09-16T23:38:19.714958Z",
     "iopub.status.idle": "2020-09-16T23:38:19.721530Z",
     "shell.execute_reply": "2020-09-16T23:38:19.720926Z"
    },
    "papermill": {
     "duration": 0.07073,
     "end_time": "2020-09-16T23:38:19.721648",
     "exception": false,
     "start_time": "2020-09-16T23:38:19.650918",
     "status": "completed"
    },
    "tags": []
   },
   "outputs": [
    {
     "data": {
      "text/plain": [
       "1298    5642\n",
       "523     4676\n",
       "1182    4476\n",
       "691     4316\n",
       "1169    3627\n",
       "185     3608\n",
       "304     3493\n",
       "1268    3447\n",
       "635     3395\n",
       "769     3279\n",
       "Name: GrLivArea, dtype: int64"
      ]
     },
     "execution_count": 14,
     "metadata": {},
     "output_type": "execute_result"
    }
   ],
   "source": [
    "# Checking the outlier of GrLivArea\n",
    "\n",
    "df2[\"GrLivArea\"].sort_values(ascending = False).head(10)"
   ]
  },
  {
   "cell_type": "code",
   "execution_count": 15,
   "metadata": {
    "execution": {
     "iopub.execute_input": "2020-09-16T23:38:19.845588Z",
     "iopub.status.busy": "2020-09-16T23:38:19.843862Z",
     "iopub.status.idle": "2020-09-16T23:38:19.849943Z",
     "shell.execute_reply": "2020-09-16T23:38:19.850448Z"
    },
    "papermill": {
     "duration": 0.070812,
     "end_time": "2020-09-16T23:38:19.850594",
     "exception": false,
     "start_time": "2020-09-16T23:38:19.779782",
     "status": "completed"
    },
    "tags": []
   },
   "outputs": [
    {
     "data": {
      "text/plain": [
       "1298    6110\n",
       "332     3206\n",
       "496     3200\n",
       "523     3138\n",
       "440     3094\n",
       "1373    2633\n",
       "1044    2524\n",
       "691     2444\n",
       "1182    2396\n",
       "224     2392\n",
       "Name: TotalBsmtSF, dtype: int64"
      ]
     },
     "execution_count": 15,
     "metadata": {},
     "output_type": "execute_result"
    }
   ],
   "source": [
    "# Checking the outlier of TotalBsmtSF\n",
    "\n",
    "df2[\"TotalBsmtSF\"].sort_values(ascending = False).head(10)"
   ]
  },
  {
   "cell_type": "markdown",
   "metadata": {
    "papermill": {
     "duration": 0.058328,
     "end_time": "2020-09-16T23:38:19.967876",
     "exception": false,
     "start_time": "2020-09-16T23:38:19.909548",
     "status": "completed"
    },
    "tags": []
   },
   "source": [
    "Now I can tell that value 1298 has too big of a GrLivArea and TotalBsmtSF, and value 523 has too big of a GrLivArea,  \n",
    "so I'm going to eliminate these values (from the concatrated data).  \n",
    "\n",
    "Also, I'm going to do the same thing to Saleprice(df1_saleprice) because its length should be the same as the train data in the end. "
   ]
  },
  {
   "cell_type": "code",
   "execution_count": 16,
   "metadata": {
    "execution": {
     "iopub.execute_input": "2020-09-16T23:38:20.108027Z",
     "iopub.status.busy": "2020-09-16T23:38:20.106983Z",
     "iopub.status.idle": "2020-09-16T23:38:20.112098Z",
     "shell.execute_reply": "2020-09-16T23:38:20.112644Z"
    },
    "papermill": {
     "duration": 0.071259,
     "end_time": "2020-09-16T23:38:20.112785",
     "exception": false,
     "start_time": "2020-09-16T23:38:20.041526",
     "status": "completed"
    },
    "tags": []
   },
   "outputs": [],
   "source": [
    "# Eliminating value 1298 and 523 from the concatrated data and Saleprice\n",
    "\n",
    "df_concat4 = df_concat3.drop(df_concat3.iloc[[1298,523],:].index)\n",
    "df1_saleprice2 = df1_saleprice.drop([1298,523])"
   ]
  },
  {
   "cell_type": "markdown",
   "metadata": {
    "papermill": {
     "duration": 0.060078,
     "end_time": "2020-09-16T23:38:20.231247",
     "exception": false,
     "start_time": "2020-09-16T23:38:20.171169",
     "status": "completed"
    },
    "tags": []
   },
   "source": [
    "I'm going to check if outliers are deleted from concatenated dataframe."
   ]
  },
  {
   "cell_type": "code",
   "execution_count": 17,
   "metadata": {
    "execution": {
     "iopub.execute_input": "2020-09-16T23:38:20.353179Z",
     "iopub.status.busy": "2020-09-16T23:38:20.352539Z",
     "iopub.status.idle": "2020-09-16T23:38:20.360068Z",
     "shell.execute_reply": "2020-09-16T23:38:20.360661Z"
    },
    "papermill": {
     "duration": 0.070263,
     "end_time": "2020-09-16T23:38:20.360803",
     "exception": false,
     "start_time": "2020-09-16T23:38:20.290540",
     "status": "completed"
    },
    "tags": []
   },
   "outputs": [
    {
     "data": {
      "text/plain": [
       "2549    5095\n",
       "1182    4476\n",
       "691     4316\n",
       "2188    3820\n",
       "2822    3672\n",
       "        ... \n",
       "2785     492\n",
       "916      480\n",
       "1100     438\n",
       "2098     407\n",
       "533      334\n",
       "Name: GrLivArea, Length: 2917, dtype: int64"
      ]
     },
     "execution_count": 17,
     "metadata": {},
     "output_type": "execute_result"
    }
   ],
   "source": [
    "# Checking GrLivArea\n",
    "\n",
    "df_concat4[\"GrLivArea\"].sort_values(ascending = False)"
   ]
  },
  {
   "cell_type": "code",
   "execution_count": 18,
   "metadata": {
    "execution": {
     "iopub.execute_input": "2020-09-16T23:38:20.485421Z",
     "iopub.status.busy": "2020-09-16T23:38:20.484749Z",
     "iopub.status.idle": "2020-09-16T23:38:20.492404Z",
     "shell.execute_reply": "2020-09-16T23:38:20.492948Z"
    },
    "papermill": {
     "duration": 0.072304,
     "end_time": "2020-09-16T23:38:20.493081",
     "exception": false,
     "start_time": "2020-09-16T23:38:20.420777",
     "status": "completed"
    },
    "tags": []
   },
   "outputs": [
    {
     "data": {
      "text/plain": [
       "2549    5095.0\n",
       "332     3206.0\n",
       "496     3200.0\n",
       "440     3094.0\n",
       "1479    2846.0\n",
       "         ...  \n",
       "2387       0.0\n",
       "553        0.0\n",
       "1412       0.0\n",
       "1218       0.0\n",
       "2120       NaN\n",
       "Name: TotalBsmtSF, Length: 2917, dtype: float64"
      ]
     },
     "execution_count": 18,
     "metadata": {},
     "output_type": "execute_result"
    }
   ],
   "source": [
    "# Checking TotalBsmtSF\n",
    "\n",
    "df_concat4[\"TotalBsmtSF\"].sort_values(ascending = False)"
   ]
  },
  {
   "cell_type": "markdown",
   "metadata": {
    "papermill": {
     "duration": 0.059302,
     "end_time": "2020-09-16T23:38:20.611997",
     "exception": false,
     "start_time": "2020-09-16T23:38:20.552695",
     "status": "completed"
    },
    "tags": []
   },
   "source": [
    "It looks like the first one (2549) still looks like an outlier, but this is from the test data whose row shouldn't be deleted,   \n",
    "so I'm going to leave this here."
   ]
  },
  {
   "cell_type": "markdown",
   "metadata": {
    "papermill": {
     "duration": 0.059711,
     "end_time": "2020-09-16T23:38:20.732084",
     "exception": false,
     "start_time": "2020-09-16T23:38:20.672373",
     "status": "completed"
    },
    "tags": []
   },
   "source": [
    "# ◆Transforming strong features \n",
    "\n",
    "Next, I'm going to check if strong features are close to normal distribution or not."
   ]
  },
  {
   "cell_type": "code",
   "execution_count": 19,
   "metadata": {
    "execution": {
     "iopub.execute_input": "2020-09-16T23:38:20.853911Z",
     "iopub.status.busy": "2020-09-16T23:38:20.853256Z",
     "iopub.status.idle": "2020-09-16T23:38:21.187609Z",
     "shell.execute_reply": "2020-09-16T23:38:21.187051Z"
    },
    "papermill": {
     "duration": 0.396363,
     "end_time": "2020-09-16T23:38:21.187730",
     "exception": false,
     "start_time": "2020-09-16T23:38:20.791367",
     "status": "completed"
    },
    "tags": []
   },
   "outputs": [
    {
     "data": {
      "text/plain": [
       "<matplotlib.axes._subplots.AxesSubplot at 0x7f0a860fd690>"
      ]
     },
     "execution_count": 19,
     "metadata": {},
     "output_type": "execute_result"
    },
    {
     "data": {
      "image/png": "[encoded data removed]",
      "text/plain": [
       "<Figure size 432x288 with 1 Axes>"
      ]
     },
     "metadata": {
      "needs_background": "light"
     },
     "output_type": "display_data"
    }
   ],
   "source": [
    "# Saleprice's distribution and probplot\n",
    "\n",
    "sns.distplot(df1_saleprice2, fit = norm)"
   ]
  },
  {
   "cell_type": "code",
   "execution_count": 20,
   "metadata": {
    "execution": {
     "iopub.execute_input": "2020-09-16T23:38:21.341825Z",
     "iopub.status.busy": "2020-09-16T23:38:21.340888Z",
     "iopub.status.idle": "2020-09-16T23:38:21.509975Z",
     "shell.execute_reply": "2020-09-16T23:38:21.510542Z"
    },
    "papermill": {
     "duration": 0.259925,
     "end_time": "2020-09-16T23:38:21.510696",
     "exception": false,
     "start_time": "2020-09-16T23:38:21.250771",
     "status": "completed"
    },
    "tags": []
   },
   "outputs": [
    {
     "data": {
      "text/plain": [
       "((array([-3.3047554 , -3.04752042, -2.90446807, ...,  2.90446807,\n",
       "          3.04752042,  3.3047554 ]),\n",
       "  array([ 34900,  35311,  37900, ..., 625000, 745000, 755000])),\n",
       " (74213.25959976624, 180932.91906721535, 0.9320154492892367))"
      ]
     },
     "execution_count": 20,
     "metadata": {},
     "output_type": "execute_result"
    },
    {
     "data": {
      "image/png": "[encoded data removed]",
      "text/plain": [
       "<Figure size 432x288 with 1 Axes>"
      ]
     },
     "metadata": {
      "needs_background": "light"
     },
     "output_type": "display_data"
    }
   ],
   "source": [
    "stats.probplot(df1_saleprice2, plot = plt)"
   ]
  },
  {
   "cell_type": "markdown",
   "metadata": {
    "papermill": {
     "duration": 0.062191,
     "end_time": "2020-09-16T23:38:21.637292",
     "exception": false,
     "start_time": "2020-09-16T23:38:21.575101",
     "status": "completed"
    },
    "tags": []
   },
   "source": [
    "It's not really looking like a normal distribution.  \n",
    "For making it look like a normal distribution, I'm going to take log of Saleprice."
   ]
  },
  {
   "cell_type": "code",
   "execution_count": 21,
   "metadata": {
    "execution": {
     "iopub.execute_input": "2020-09-16T23:38:21.768871Z",
     "iopub.status.busy": "2020-09-16T23:38:21.767848Z",
     "iopub.status.idle": "2020-09-16T23:38:21.773071Z",
     "shell.execute_reply": "2020-09-16T23:38:21.772508Z"
    },
    "papermill": {
     "duration": 0.070643,
     "end_time": "2020-09-16T23:38:21.773178",
     "exception": false,
     "start_time": "2020-09-16T23:38:21.702535",
     "status": "completed"
    },
    "tags": []
   },
   "outputs": [],
   "source": [
    "# Taking log of Saleprice\n",
    "\n",
    "df1_saleprice3 = np.log(df1_saleprice2)  "
   ]
  },
  {
   "cell_type": "markdown",
   "metadata": {
    "papermill": {
     "duration": 0.062821,
     "end_time": "2020-09-16T23:38:21.898128",
     "exception": false,
     "start_time": "2020-09-16T23:38:21.835307",
     "status": "completed"
    },
    "tags": []
   },
   "source": [
    "Checking how the saleprice looks now."
   ]
  },
  {
   "cell_type": "code",
   "execution_count": 22,
   "metadata": {
    "execution": {
     "iopub.execute_input": "2020-09-16T23:38:22.083042Z",
     "iopub.status.busy": "2020-09-16T23:38:22.081996Z",
     "iopub.status.idle": "2020-09-16T23:38:22.301468Z",
     "shell.execute_reply": "2020-09-16T23:38:22.301952Z"
    },
    "papermill": {
     "duration": 0.291971,
     "end_time": "2020-09-16T23:38:22.302099",
     "exception": false,
     "start_time": "2020-09-16T23:38:22.010128",
     "status": "completed"
    },
    "tags": []
   },
   "outputs": [
    {
     "data": {
      "text/plain": [
       "<matplotlib.axes._subplots.AxesSubplot at 0x7f0a85372190>"
      ]
     },
     "execution_count": 22,
     "metadata": {},
     "output_type": "execute_result"
    },
    {
     "data": {
      "image/png": "[encoded data removed]",
      "text/plain": [
       "<Figure size 432x288 with 1 Axes>"
      ]
     },
     "metadata": {
      "needs_background": "light"
     },
     "output_type": "display_data"
    }
   ],
   "source": [
    "sns.distplot(df1_saleprice3, fit = norm)"
   ]
  },
  {
   "cell_type": "code",
   "execution_count": 23,
   "metadata": {
    "execution": {
     "iopub.execute_input": "2020-09-16T23:38:22.435403Z",
     "iopub.status.busy": "2020-09-16T23:38:22.434676Z",
     "iopub.status.idle": "2020-09-16T23:38:22.598396Z",
     "shell.execute_reply": "2020-09-16T23:38:22.599072Z"
    },
    "papermill": {
     "duration": 0.232895,
     "end_time": "2020-09-16T23:38:22.599270",
     "exception": false,
     "start_time": "2020-09-16T23:38:22.366375",
     "status": "completed"
    },
    "tags": []
   },
   "outputs": [
    {
     "data": {
      "text/plain": [
       "((array([-3.3047554 , -3.04752042, -2.90446807, ...,  2.90446807,\n",
       "          3.04752042,  3.3047554 ]),\n",
       "  array([10.46024211, 10.47194981, 10.54270639, ..., 13.34550693,\n",
       "         13.5211395 , 13.53447303])),\n",
       " (0.3985320692976512, 12.024008660964794, 0.9953918648311367))"
      ]
     },
     "execution_count": 23,
     "metadata": {},
     "output_type": "execute_result"
    },
    {
     "data": {
      "image/png": "[encoded data removed]",
      "text/plain": [
       "<Figure size 432x288 with 1 Axes>"
      ]
     },
     "metadata": {
      "needs_background": "light"
     },
     "output_type": "display_data"
    }
   ],
   "source": [
    "stats.probplot(df1_saleprice3, plot = plt)"
   ]
  },
  {
   "cell_type": "markdown",
   "metadata": {
    "papermill": {
     "duration": 0.072396,
     "end_time": "2020-09-16T23:38:22.740693",
     "exception": false,
     "start_time": "2020-09-16T23:38:22.668297",
     "status": "completed"
    },
    "tags": []
   },
   "source": [
    "Seemls like the saleprice looks like a normal distribution now!\n",
    "\n",
    "Next, I'm going to check the GrLivArea too. "
   ]
  },
  {
   "cell_type": "code",
   "execution_count": 24,
   "metadata": {
    "execution": {
     "iopub.execute_input": "2020-09-16T23:38:22.889075Z",
     "iopub.status.busy": "2020-09-16T23:38:22.888018Z",
     "iopub.status.idle": "2020-09-16T23:38:23.120851Z",
     "shell.execute_reply": "2020-09-16T23:38:23.120170Z"
    },
    "papermill": {
     "duration": 0.314243,
     "end_time": "2020-09-16T23:38:23.120964",
     "exception": false,
     "start_time": "2020-09-16T23:38:22.806721",
     "status": "completed"
    },
    "tags": []
   },
   "outputs": [
    {
     "data": {
      "text/plain": [
       "<matplotlib.axes._subplots.AxesSubplot at 0x7f0a8524bf10>"
      ]
     },
     "execution_count": 24,
     "metadata": {},
     "output_type": "execute_result"
    },
    {
     "data": {
      "image/png": "[encoded data removed]",
      "text/plain": [
       "<Figure size 432x288 with 1 Axes>"
      ]
     },
     "metadata": {
      "needs_background": "light"
     },
     "output_type": "display_data"
    }
   ],
   "source": [
    "# GrLivArea's distribution and probability plot.\n",
    "\n",
    "sns.distplot(df_concat4[\"GrLivArea\"], fit = norm)"
   ]
  },
  {
   "cell_type": "code",
   "execution_count": 25,
   "metadata": {
    "execution": {
     "iopub.execute_input": "2020-09-16T23:38:23.261794Z",
     "iopub.status.busy": "2020-09-16T23:38:23.260715Z",
     "iopub.status.idle": "2020-09-16T23:38:23.423180Z",
     "shell.execute_reply": "2020-09-16T23:38:23.423729Z"
    },
    "papermill": {
     "duration": 0.235252,
     "end_time": "2020-09-16T23:38:23.423868",
     "exception": false,
     "start_time": "2020-09-16T23:38:23.188616",
     "status": "completed"
    },
    "tags": []
   },
   "outputs": [
    {
     "data": {
      "text/plain": [
       "((array([-3.4943654 , -3.25015084, -3.11507391, ...,  3.11507391,\n",
       "          3.25015084,  3.4943654 ]),\n",
       "  array([ 334,  407,  438, ..., 4316, 4476, 5095])),\n",
       " (483.620471204401, 1498.2516283853274, 0.972374518285359))"
      ]
     },
     "execution_count": 25,
     "metadata": {},
     "output_type": "execute_result"
    },
    {
     "data": {
      "image/png": "[encoded data removed]",
      "text/plain": [
       "<Figure size 432x288 with 1 Axes>"
      ]
     },
     "metadata": {
      "needs_background": "light"
     },
     "output_type": "display_data"
    }
   ],
   "source": [
    "stats.probplot(df_concat4[\"GrLivArea\"], plot = plt)"
   ]
  },
  {
   "cell_type": "markdown",
   "metadata": {
    "papermill": {
     "duration": 0.068576,
     "end_time": "2020-09-16T23:38:23.562353",
     "exception": false,
     "start_time": "2020-09-16T23:38:23.493777",
     "status": "completed"
    },
    "tags": []
   },
   "source": [
    "It doesn't look like a normal distribution either, so I'm going to take log of GrLivArea too."
   ]
  },
  {
   "cell_type": "code",
   "execution_count": 26,
   "metadata": {
    "execution": {
     "iopub.execute_input": "2020-09-16T23:38:23.705748Z",
     "iopub.status.busy": "2020-09-16T23:38:23.704901Z",
     "iopub.status.idle": "2020-09-16T23:38:23.707711Z",
     "shell.execute_reply": "2020-09-16T23:38:23.708329Z"
    },
    "papermill": {
     "duration": 0.077701,
     "end_time": "2020-09-16T23:38:23.708469",
     "exception": false,
     "start_time": "2020-09-16T23:38:23.630768",
     "status": "completed"
    },
    "tags": []
   },
   "outputs": [],
   "source": [
    "df_concat4[\"GrLivArea\"] = np.log(df_concat4[\"GrLivArea\"])  "
   ]
  },
  {
   "cell_type": "markdown",
   "metadata": {
    "papermill": {
     "duration": 0.069388,
     "end_time": "2020-09-16T23:38:23.846902",
     "exception": false,
     "start_time": "2020-09-16T23:38:23.777514",
     "status": "completed"
    },
    "tags": []
   },
   "source": [
    "Checking how the GrLivArea looks now."
   ]
  },
  {
   "cell_type": "code",
   "execution_count": 27,
   "metadata": {
    "execution": {
     "iopub.execute_input": "2020-09-16T23:38:23.991830Z",
     "iopub.status.busy": "2020-09-16T23:38:23.990799Z",
     "iopub.status.idle": "2020-09-16T23:38:24.233723Z",
     "shell.execute_reply": "2020-09-16T23:38:24.232969Z"
    },
    "papermill": {
     "duration": 0.316896,
     "end_time": "2020-09-16T23:38:24.233840",
     "exception": false,
     "start_time": "2020-09-16T23:38:23.916944",
     "status": "completed"
    },
    "tags": []
   },
   "outputs": [
    {
     "data": {
      "text/plain": [
       "<matplotlib.axes._subplots.AxesSubplot at 0x7f0a85100d10>"
      ]
     },
     "execution_count": 27,
     "metadata": {},
     "output_type": "execute_result"
    },
    {
     "data": {
      "image/png": "[encoded data removed]",
      "text/plain": [
       "<Figure size 432x288 with 1 Axes>"
      ]
     },
     "metadata": {
      "needs_background": "light"
     },
     "output_type": "display_data"
    }
   ],
   "source": [
    "sns.distplot(df_concat4[\"GrLivArea\"], fit = norm)"
   ]
  },
  {
   "cell_type": "code",
   "execution_count": 28,
   "metadata": {
    "execution": {
     "iopub.execute_input": "2020-09-16T23:38:24.382072Z",
     "iopub.status.busy": "2020-09-16T23:38:24.380990Z",
     "iopub.status.idle": "2020-09-16T23:38:24.545805Z",
     "shell.execute_reply": "2020-09-16T23:38:24.545288Z"
    },
    "papermill": {
     "duration": 0.240327,
     "end_time": "2020-09-16T23:38:24.545918",
     "exception": false,
     "start_time": "2020-09-16T23:38:24.305591",
     "status": "completed"
    },
    "tags": []
   },
   "outputs": [
    {
     "data": {
      "text/plain": [
       "((array([-3.4943654 , -3.25015084, -3.11507391, ...,  3.11507391,\n",
       "          3.25015084,  3.4943654 ]),\n",
       "  array([5.81114099, 6.00881319, 6.08221891, ..., 8.37008433, 8.40648507,\n",
       "         8.53601495])),\n",
       " (0.3231691749794683, 7.259882015804195, 0.9985345032541885))"
      ]
     },
     "execution_count": 28,
     "metadata": {},
     "output_type": "execute_result"
    },
    {
     "data": {
      "image/png": "[encoded data removed]",
      "text/plain": [
       "<Figure size 432x288 with 1 Axes>"
      ]
     },
     "metadata": {
      "needs_background": "light"
     },
     "output_type": "display_data"
    }
   ],
   "source": [
    "stats.probplot(df_concat4[\"GrLivArea\"], plot = plt)"
   ]
  },
  {
   "cell_type": "markdown",
   "metadata": {
    "papermill": {
     "duration": 0.071188,
     "end_time": "2020-09-16T23:38:24.688344",
     "exception": false,
     "start_time": "2020-09-16T23:38:24.617156",
     "status": "completed"
    },
    "tags": []
   },
   "source": [
    "It was successfully changed!"
   ]
  },
  {
   "cell_type": "markdown",
   "metadata": {
    "papermill": {
     "duration": 0.070894,
     "end_time": "2020-09-16T23:38:24.830670",
     "exception": false,
     "start_time": "2020-09-16T23:38:24.759776",
     "status": "completed"
    },
    "tags": []
   },
   "source": [
    "Now I'm going to check the TotalBsmtSF."
   ]
  },
  {
   "cell_type": "code",
   "execution_count": 29,
   "metadata": {
    "execution": {
     "iopub.execute_input": "2020-09-16T23:38:24.986309Z",
     "iopub.status.busy": "2020-09-16T23:38:24.980130Z",
     "iopub.status.idle": "2020-09-16T23:38:25.227604Z",
     "shell.execute_reply": "2020-09-16T23:38:25.226872Z"
    },
    "papermill": {
     "duration": 0.324854,
     "end_time": "2020-09-16T23:38:25.227766",
     "exception": false,
     "start_time": "2020-09-16T23:38:24.902912",
     "status": "completed"
    },
    "tags": []
   },
   "outputs": [
    {
     "data": {
      "text/plain": [
       "<matplotlib.axes._subplots.AxesSubplot at 0x7f0a850b4550>"
      ]
     },
     "execution_count": 29,
     "metadata": {},
     "output_type": "execute_result"
    },
    {
     "data": {
      "image/png": "[encoded data removed]",
      "text/plain": [
       "<Figure size 432x288 with 1 Axes>"
      ]
     },
     "metadata": {
      "needs_background": "light"
     },
     "output_type": "display_data"
    }
   ],
   "source": [
    "# TotalBsmtSF's distribution and probability plot.\n",
    "\n",
    "sns.distplot(df_concat4[\"TotalBsmtSF\"], fit = norm)"
   ]
  },
  {
   "cell_type": "code",
   "execution_count": 30,
   "metadata": {
    "execution": {
     "iopub.execute_input": "2020-09-16T23:38:25.379199Z",
     "iopub.status.busy": "2020-09-16T23:38:25.378138Z",
     "iopub.status.idle": "2020-09-16T23:38:25.537355Z",
     "shell.execute_reply": "2020-09-16T23:38:25.537956Z"
    },
    "papermill": {
     "duration": 0.237352,
     "end_time": "2020-09-16T23:38:25.538134",
     "exception": false,
     "start_time": "2020-09-16T23:38:25.300782",
     "status": "completed"
    },
    "tags": []
   },
   "outputs": [
    {
     "data": {
      "text/plain": [
       "((array([-3.4943654 , -3.25015084, -3.11507391, ...,  3.11507391,\n",
       "          3.25015084,  3.4943654 ]),\n",
       "  array([   0.,    0.,    0., ..., 3206., 5095.,   nan])),\n",
       " (nan, nan, nan))"
      ]
     },
     "execution_count": 30,
     "metadata": {},
     "output_type": "execute_result"
    },
    {
     "data": {
      "image/png": "[encoded data removed]",
      "text/plain": [
       "<Figure size 432x288 with 1 Axes>"
      ]
     },
     "metadata": {
      "needs_background": "light"
     },
     "output_type": "display_data"
    }
   ],
   "source": [
    "stats.probplot(df_concat4[\"TotalBsmtSF\"], plot = plt)"
   ]
  },
  {
   "cell_type": "markdown",
   "metadata": {
    "papermill": {
     "duration": 0.073154,
     "end_time": "2020-09-16T23:38:25.687161",
     "exception": false,
     "start_time": "2020-09-16T23:38:25.614007",
     "status": "completed"
    },
    "tags": []
   },
   "source": [
    "I want to take log of this too, but looks like zero values are included here(some houses must not have any basements), so I can't do that.    \n",
    "Thus, I'm going to only use the data which is bigger than 0."
   ]
  },
  {
   "cell_type": "code",
   "execution_count": 31,
   "metadata": {
    "execution": {
     "iopub.execute_input": "2020-09-16T23:38:25.841338Z",
     "iopub.status.busy": "2020-09-16T23:38:25.840682Z",
     "iopub.status.idle": "2020-09-16T23:38:25.844033Z",
     "shell.execute_reply": "2020-09-16T23:38:25.843467Z"
    },
    "papermill": {
     "duration": 0.083358,
     "end_time": "2020-09-16T23:38:25.844160",
     "exception": false,
     "start_time": "2020-09-16T23:38:25.760802",
     "status": "completed"
    },
    "tags": []
   },
   "outputs": [],
   "source": [
    "# Creating an array consisting of the values which are bigger than 0 in TotalBsmtSF\n",
    "\n",
    "WithBsmt1 = df_concat4[\"TotalBsmtSF\"][df_concat4[\"TotalBsmtSF\"] > 0]"
   ]
  },
  {
   "cell_type": "code",
   "execution_count": 32,
   "metadata": {
    "execution": {
     "iopub.execute_input": "2020-09-16T23:38:26.001539Z",
     "iopub.status.busy": "2020-09-16T23:38:26.000563Z",
     "iopub.status.idle": "2020-09-16T23:38:26.004581Z",
     "shell.execute_reply": "2020-09-16T23:38:26.005085Z"
    },
    "papermill": {
     "duration": 0.086131,
     "end_time": "2020-09-16T23:38:26.005240",
     "exception": false,
     "start_time": "2020-09-16T23:38:25.919109",
     "status": "completed"
    },
    "tags": []
   },
   "outputs": [
    {
     "data": {
      "text/plain": [
       "105.0"
      ]
     },
     "execution_count": 32,
     "metadata": {},
     "output_type": "execute_result"
    }
   ],
   "source": [
    "# Checking the minimum value is bigger than 0\n",
    "\n",
    "WithBsmt1.min()"
   ]
  },
  {
   "cell_type": "markdown",
   "metadata": {
    "papermill": {
     "duration": 0.075895,
     "end_time": "2020-09-16T23:38:26.156686",
     "exception": false,
     "start_time": "2020-09-16T23:38:26.080791",
     "status": "completed"
    },
    "tags": []
   },
   "source": [
    "Now I'm going to transform WithBsmt1 by taking log of it"
   ]
  },
  {
   "cell_type": "code",
   "execution_count": 33,
   "metadata": {
    "execution": {
     "iopub.execute_input": "2020-09-16T23:38:26.314430Z",
     "iopub.status.busy": "2020-09-16T23:38:26.313708Z",
     "iopub.status.idle": "2020-09-16T23:38:26.316771Z",
     "shell.execute_reply": "2020-09-16T23:38:26.316265Z"
    },
    "papermill": {
     "duration": 0.083239,
     "end_time": "2020-09-16T23:38:26.316883",
     "exception": false,
     "start_time": "2020-09-16T23:38:26.233644",
     "status": "completed"
    },
    "tags": []
   },
   "outputs": [],
   "source": [
    "#Taking log\n",
    "\n",
    "WithBsmt2 = np.log(WithBsmt1)"
   ]
  },
  {
   "cell_type": "code",
   "execution_count": 34,
   "metadata": {
    "execution": {
     "iopub.execute_input": "2020-09-16T23:38:26.475641Z",
     "iopub.status.busy": "2020-09-16T23:38:26.474928Z",
     "iopub.status.idle": "2020-09-16T23:38:26.658702Z",
     "shell.execute_reply": "2020-09-16T23:38:26.659310Z"
    },
    "papermill": {
     "duration": 0.267966,
     "end_time": "2020-09-16T23:38:26.659456",
     "exception": false,
     "start_time": "2020-09-16T23:38:26.391490",
     "status": "completed"
    },
    "tags": []
   },
   "outputs": [
    {
     "data": {
      "text/plain": [
       "((array([-3.48703022, -3.24233598, -3.10696736, ...,  3.10696736,\n",
       "          3.24233598,  3.48703022]),\n",
       "  array([4.65396035, 5.07517382, 5.15329159, ..., 8.07090609, 8.07277933,\n",
       "         8.53601495])),\n",
       " (0.371551385150158, 6.915961728013744, 0.9912731991973128))"
      ]
     },
     "execution_count": 34,
     "metadata": {},
     "output_type": "execute_result"
    },
    {
     "data": {
      "image/png": "[encoded data removed]",
      "text/plain": [
       "<Figure size 432x288 with 1 Axes>"
      ]
     },
     "metadata": {
      "needs_background": "light"
     },
     "output_type": "display_data"
    }
   ],
   "source": [
    "# Checking the probplot\n",
    "\n",
    "stats.probplot(WithBsmt2, plot = plt)"
   ]
  },
  {
   "cell_type": "markdown",
   "metadata": {
    "papermill": {
     "duration": 0.082604,
     "end_time": "2020-09-16T23:38:26.820229",
     "exception": false,
     "start_time": "2020-09-16T23:38:26.737625",
     "status": "completed"
    },
    "tags": []
   },
   "source": [
    "It looks like it was successfuly transformed.    \n",
    "  \n",
    "Now I'm going to put this back to the original data frame."
   ]
  },
  {
   "cell_type": "code",
   "execution_count": 35,
   "metadata": {
    "execution": {
     "iopub.execute_input": "2020-09-16T23:38:26.977912Z",
     "iopub.status.busy": "2020-09-16T23:38:26.976928Z",
     "iopub.status.idle": "2020-09-16T23:38:26.990437Z",
     "shell.execute_reply": "2020-09-16T23:38:26.990900Z"
    },
    "papermill": {
     "duration": 0.093232,
     "end_time": "2020-09-16T23:38:26.991057",
     "exception": false,
     "start_time": "2020-09-16T23:38:26.897825",
     "status": "completed"
    },
    "tags": []
   },
   "outputs": [
    {
     "name": "stderr",
     "output_type": "stream",
     "text": [
      "/opt/conda/lib/python3.7/site-packages/pandas/core/indexing.py:1745: SettingWithCopyWarning: \n",
      "A value is trying to be set on a copy of a slice from a DataFrame.\n",
      "Try using .loc[row_indexer,col_indexer] = value instead\n",
      "\n",
      "See the caveats in the documentation: https://pandas.pydata.org/pandas-docs/stable/user_guide/indexing.html#returning-a-view-versus-a-copy\n",
      "  isetter(ilocs[0], value)\n"
     ]
    }
   ],
   "source": [
    "df_concat4[df_concat4[\"TotalBsmtSF\"] > 0].loc[:, \"TotalBsmtSF\"] = WithBsmt2"
   ]
  },
  {
   "cell_type": "markdown",
   "metadata": {
    "papermill": {
     "duration": 0.07641,
     "end_time": "2020-09-16T23:38:27.145931",
     "exception": false,
     "start_time": "2020-09-16T23:38:27.069521",
     "status": "completed"
    },
    "tags": []
   },
   "source": [
    "# ◆One-hot encoding\n",
    "\n",
    "Now I'm going to encode the categorical features using get_dummies."
   ]
  },
  {
   "cell_type": "code",
   "execution_count": 36,
   "metadata": {
    "execution": {
     "iopub.execute_input": "2020-09-16T23:38:27.302541Z",
     "iopub.status.busy": "2020-09-16T23:38:27.301874Z",
     "iopub.status.idle": "2020-09-16T23:38:27.348885Z",
     "shell.execute_reply": "2020-09-16T23:38:27.349465Z"
    },
    "papermill": {
     "duration": 0.127065,
     "end_time": "2020-09-16T23:38:27.349616",
     "exception": false,
     "start_time": "2020-09-16T23:38:27.222551",
     "status": "completed"
    },
    "tags": []
   },
   "outputs": [],
   "source": [
    "df_concat5 = pd.get_dummies(df_concat4)"
   ]
  },
  {
   "cell_type": "markdown",
   "metadata": {
    "papermill": {
     "duration": 0.078626,
     "end_time": "2020-09-16T23:38:27.506076",
     "exception": false,
     "start_time": "2020-09-16T23:38:27.427450",
     "status": "completed"
    },
    "tags": []
   },
   "source": [
    "# ◆Splitting the data into train and test data\n",
    "\n",
    "Now I have to split this concatrated data into 2 groups, as in train and test groups.\n",
    "\n",
    "It was really short, so I feel bad to interrupt and have them get separated. I hope they had really good time, and don't want them to hate me.\n"
   ]
  },
  {
   "cell_type": "markdown",
   "metadata": {
    "papermill": {
     "duration": 0.076505,
     "end_time": "2020-09-16T23:38:27.659804",
     "exception": false,
     "start_time": "2020-09-16T23:38:27.583299",
     "status": "completed"
    },
    "tags": []
   },
   "source": [
    "First of all, I'm going to check the length of the original train data."
   ]
  },
  {
   "cell_type": "code",
   "execution_count": 37,
   "metadata": {
    "execution": {
     "iopub.execute_input": "2020-09-16T23:38:27.818355Z",
     "iopub.status.busy": "2020-09-16T23:38:27.817677Z",
     "iopub.status.idle": "2020-09-16T23:38:27.822464Z",
     "shell.execute_reply": "2020-09-16T23:38:27.823063Z"
    },
    "papermill": {
     "duration": 0.08542,
     "end_time": "2020-09-16T23:38:27.823227",
     "exception": false,
     "start_time": "2020-09-16T23:38:27.737807",
     "status": "completed"
    },
    "tags": []
   },
   "outputs": [
    {
     "data": {
      "text/plain": [
       "1460"
      ]
     },
     "execution_count": 37,
     "metadata": {},
     "output_type": "execute_result"
    }
   ],
   "source": [
    "len(df1 )"
   ]
  },
  {
   "cell_type": "markdown",
   "metadata": {
    "papermill": {
     "duration": 0.077978,
     "end_time": "2020-09-16T23:38:27.979143",
     "exception": false,
     "start_time": "2020-09-16T23:38:27.901165",
     "status": "completed"
    },
    "tags": []
   },
   "source": [
    "I eliminated 2 rows at the outliers section, so it's going to be 1458 rows. "
   ]
  },
  {
   "cell_type": "code",
   "execution_count": 38,
   "metadata": {
    "execution": {
     "iopub.execute_input": "2020-09-16T23:38:28.141110Z",
     "iopub.status.busy": "2020-09-16T23:38:28.140328Z",
     "iopub.status.idle": "2020-09-16T23:38:28.144936Z",
     "shell.execute_reply": "2020-09-16T23:38:28.145619Z"
    },
    "papermill": {
     "duration": 0.08603,
     "end_time": "2020-09-16T23:38:28.145776",
     "exception": false,
     "start_time": "2020-09-16T23:38:28.059746",
     "status": "completed"
    },
    "tags": []
   },
   "outputs": [
    {
     "data": {
      "text/plain": [
       "2917"
      ]
     },
     "execution_count": 38,
     "metadata": {},
     "output_type": "execute_result"
    }
   ],
   "source": [
    "len(df_concat5)"
   ]
  },
  {
   "cell_type": "code",
   "execution_count": 39,
   "metadata": {
    "execution": {
     "iopub.execute_input": "2020-09-16T23:38:28.308098Z",
     "iopub.status.busy": "2020-09-16T23:38:28.307400Z",
     "iopub.status.idle": "2020-09-16T23:38:28.310685Z",
     "shell.execute_reply": "2020-09-16T23:38:28.310003Z"
    },
    "papermill": {
     "duration": 0.087171,
     "end_time": "2020-09-16T23:38:28.310803",
     "exception": false,
     "start_time": "2020-09-16T23:38:28.223632",
     "status": "completed"
    },
    "tags": []
   },
   "outputs": [],
   "source": [
    "# Separating the concatrated data into train data and test data\n",
    "\n",
    "sep_train_df = df_concat5.iloc[:1458,:]\n",
    "sep_test_df = df_concat5.iloc[1458:,:]"
   ]
  },
  {
   "cell_type": "code",
   "execution_count": 40,
   "metadata": {
    "execution": {
     "iopub.execute_input": "2020-09-16T23:38:28.472817Z",
     "iopub.status.busy": "2020-09-16T23:38:28.472134Z",
     "iopub.status.idle": "2020-09-16T23:38:28.475434Z",
     "shell.execute_reply": "2020-09-16T23:38:28.475966Z"
    },
    "papermill": {
     "duration": 0.086475,
     "end_time": "2020-09-16T23:38:28.476103",
     "exception": false,
     "start_time": "2020-09-16T23:38:28.389628",
     "status": "completed"
    },
    "tags": []
   },
   "outputs": [
    {
     "data": {
      "text/plain": [
       "1458"
      ]
     },
     "execution_count": 40,
     "metadata": {},
     "output_type": "execute_result"
    }
   ],
   "source": [
    "#Checking the length of separated data\n",
    "\n",
    "len(sep_train_df)"
   ]
  },
  {
   "cell_type": "code",
   "execution_count": 41,
   "metadata": {
    "execution": {
     "iopub.execute_input": "2020-09-16T23:38:28.639361Z",
     "iopub.status.busy": "2020-09-16T23:38:28.638701Z",
     "iopub.status.idle": "2020-09-16T23:38:28.643415Z",
     "shell.execute_reply": "2020-09-16T23:38:28.643928Z"
    },
    "papermill": {
     "duration": 0.08702,
     "end_time": "2020-09-16T23:38:28.644071",
     "exception": false,
     "start_time": "2020-09-16T23:38:28.557051",
     "status": "completed"
    },
    "tags": []
   },
   "outputs": [
    {
     "data": {
      "text/plain": [
       "1459"
      ]
     },
     "execution_count": 41,
     "metadata": {},
     "output_type": "execute_result"
    }
   ],
   "source": [
    "len(sep_test_df)"
   ]
  },
  {
   "cell_type": "markdown",
   "metadata": {
    "papermill": {
     "duration": 0.079492,
     "end_time": "2020-09-16T23:38:28.802877",
     "exception": false,
     "start_time": "2020-09-16T23:38:28.723385",
     "status": "completed"
    },
    "tags": []
   },
   "source": [
    "# ◆Using light GBM to predict the Saleprice"
   ]
  },
  {
   "cell_type": "markdown",
   "metadata": {
    "papermill": {
     "duration": 0.078576,
     "end_time": "2020-09-16T23:38:28.960798",
     "exception": false,
     "start_time": "2020-09-16T23:38:28.882222",
     "status": "completed"
    },
    "tags": []
   },
   "source": [
    "I have finished the preprocessing, and now finally I'm going to use machine learning to predict the saleprice.  \n",
    "Here, I'm going to use light GBM. "
   ]
  },
  {
   "cell_type": "code",
   "execution_count": 42,
   "metadata": {
    "execution": {
     "iopub.execute_input": "2020-09-16T23:38:29.122916Z",
     "iopub.status.busy": "2020-09-16T23:38:29.122271Z",
     "iopub.status.idle": "2020-09-16T23:38:29.130270Z",
     "shell.execute_reply": "2020-09-16T23:38:29.130820Z"
    },
    "papermill": {
     "duration": 0.090549,
     "end_time": "2020-09-16T23:38:29.130965",
     "exception": false,
     "start_time": "2020-09-16T23:38:29.040416",
     "status": "completed"
    },
    "tags": []
   },
   "outputs": [],
   "source": [
    "# Spliting the data \n",
    "\n",
    "X_train, X_test, y_train, y_test = train_test_split(sep_train_df,df1_saleprice3,random_state = 0, test_size = 0.2)"
   ]
  },
  {
   "cell_type": "code",
   "execution_count": 43,
   "metadata": {
    "execution": {
     "iopub.execute_input": "2020-09-16T23:38:29.293551Z",
     "iopub.status.busy": "2020-09-16T23:38:29.292880Z",
     "iopub.status.idle": "2020-09-16T23:38:29.298198Z",
     "shell.execute_reply": "2020-09-16T23:38:29.297652Z"
    },
    "papermill": {
     "duration": 0.087817,
     "end_time": "2020-09-16T23:38:29.298335",
     "exception": false,
     "start_time": "2020-09-16T23:38:29.210518",
     "status": "completed"
    },
    "tags": []
   },
   "outputs": [],
   "source": [
    "lgb_train = lgb.Dataset(X_train, y_train)\n",
    "lgb_test = lgb.Dataset(X_test, y_test)"
   ]
  },
  {
   "cell_type": "markdown",
   "metadata": {
    "papermill": {
     "duration": 0.08098,
     "end_time": "2020-09-16T23:38:29.461238",
     "exception": false,
     "start_time": "2020-09-16T23:38:29.380258",
     "status": "completed"
    },
    "tags": []
   },
   "source": [
    "I'm going to check what the best parameter is."
   ]
  },
  {
   "cell_type": "code",
   "execution_count": 44,
   "metadata": {
    "execution": {
     "iopub.execute_input": "2020-09-16T23:38:29.631075Z",
     "iopub.status.busy": "2020-09-16T23:38:29.630062Z",
     "iopub.status.idle": "2020-09-16T23:38:33.177542Z",
     "shell.execute_reply": "2020-09-16T23:38:33.178872Z"
    },
    "papermill": {
     "duration": 3.636226,
     "end_time": "2020-09-16T23:38:33.179072",
     "exception": false,
     "start_time": "2020-09-16T23:38:29.542846",
     "status": "completed"
    },
    "tags": []
   },
   "outputs": [
    {
     "name": "stdout",
     "output_type": "stream",
     "text": [
      "Training until validation scores don't improve for 100 rounds\n",
      "[50]\tvalid_0's rmse: 0.131098\n",
      "[100]\tvalid_0's rmse: 0.118845\n",
      "[150]\tvalid_0's rmse: 0.115252\n",
      "[200]\tvalid_0's rmse: 0.113691\n",
      "[250]\tvalid_0's rmse: 0.112933\n",
      "[300]\tvalid_0's rmse: 0.112388\n",
      "[350]\tvalid_0's rmse: 0.112029\n",
      "[400]\tvalid_0's rmse: 0.112103\n",
      "[450]\tvalid_0's rmse: 0.111959\n",
      "Early stopping, best iteration is:\n",
      "[364]\tvalid_0's rmse: 0.111875\n",
      "Training until validation scores don't improve for 100 rounds\n",
      "[50]\tvalid_0's rmse: 0.119191\n",
      "[100]\tvalid_0's rmse: 0.115318\n",
      "[150]\tvalid_0's rmse: 0.11432\n",
      "[200]\tvalid_0's rmse: 0.11354\n",
      "[250]\tvalid_0's rmse: 0.113052\n",
      "[300]\tvalid_0's rmse: 0.113549\n",
      "Early stopping, best iteration is:\n",
      "[247]\tvalid_0's rmse: 0.112882\n",
      "Training until validation scores don't improve for 100 rounds\n",
      "[50]\tvalid_0's rmse: 0.117055\n",
      "[100]\tvalid_0's rmse: 0.115636\n",
      "[150]\tvalid_0's rmse: 0.115946\n",
      "[200]\tvalid_0's rmse: 0.116104\n",
      "Early stopping, best iteration is:\n",
      "[104]\tvalid_0's rmse: 0.115576\n",
      "Training until validation scores don't improve for 100 rounds\n",
      "[50]\tvalid_0's rmse: 0.118115\n",
      "[100]\tvalid_0's rmse: 0.117336\n",
      "[150]\tvalid_0's rmse: 0.117556\n",
      "Early stopping, best iteration is:\n",
      "[96]\tvalid_0's rmse: 0.117066\n",
      "Training until validation scores don't improve for 100 rounds\n",
      "[50]\tvalid_0's rmse: 0.119875\n",
      "[100]\tvalid_0's rmse: 0.11947\n",
      "[150]\tvalid_0's rmse: 0.119528\n",
      "Early stopping, best iteration is:\n",
      "[72]\tvalid_0's rmse: 0.118738\n",
      "Training until validation scores don't improve for 100 rounds\n",
      "[50]\tvalid_0's rmse: 0.120124\n",
      "[100]\tvalid_0's rmse: 0.119237\n",
      "[150]\tvalid_0's rmse: 0.118366\n",
      "[200]\tvalid_0's rmse: 0.118685\n",
      "Early stopping, best iteration is:\n",
      "[149]\tvalid_0's rmse: 0.118344\n",
      "Training until validation scores don't improve for 100 rounds\n",
      "[50]\tvalid_0's rmse: 0.120327\n",
      "[100]\tvalid_0's rmse: 0.119548\n",
      "[150]\tvalid_0's rmse: 0.119713\n",
      "Early stopping, best iteration is:\n",
      "[63]\tvalid_0's rmse: 0.119412\n",
      "Training until validation scores don't improve for 100 rounds\n",
      "[50]\tvalid_0's rmse: 0.119327\n",
      "[100]\tvalid_0's rmse: 0.117227\n",
      "[150]\tvalid_0's rmse: 0.117302\n",
      "[200]\tvalid_0's rmse: 0.117493\n",
      "[250]\tvalid_0's rmse: 0.117605\n",
      "Early stopping, best iteration is:\n",
      "[167]\tvalid_0's rmse: 0.116944\n",
      "Training until validation scores don't improve for 100 rounds\n",
      "[50]\tvalid_0's rmse: 0.119079\n",
      "[100]\tvalid_0's rmse: 0.11773\n",
      "[150]\tvalid_0's rmse: 0.117764\n",
      "Early stopping, best iteration is:\n",
      "[83]\tvalid_0's rmse: 0.117559\n",
      "Training until validation scores don't improve for 100 rounds\n",
      "[50]\tvalid_0's rmse: 0.119233\n",
      "[100]\tvalid_0's rmse: 0.118169\n",
      "[150]\tvalid_0's rmse: 0.118662\n",
      "Early stopping, best iteration is:\n",
      "[88]\tvalid_0's rmse: 0.117841\n"
     ]
    }
   ],
   "source": [
    "# Checking the best max_depth\n",
    "\n",
    "max_depth_list = np.arange(2,22,2)\n",
    "\n",
    "for i in max_depth_list:\n",
    "    params = {'boosting_type': 'gbdt',\n",
    "          'objective': 'regression',\n",
    "          'metric': 'rmse',\n",
    "          'max_depth' : i}\n",
    "    \n",
    "    gbm = lgb.train(params,\n",
    "               lgb_train,\n",
    "               valid_sets = lgb_test,\n",
    "               num_boost_round = 5000,\n",
    "               early_stopping_rounds = 100,\n",
    "                verbose_eval = 50\n",
    "                )"
   ]
  },
  {
   "cell_type": "markdown",
   "metadata": {
    "papermill": {
     "duration": 0.103004,
     "end_time": "2020-09-16T23:38:33.392703",
     "exception": false,
     "start_time": "2020-09-16T23:38:33.289699",
     "status": "completed"
    },
    "tags": []
   },
   "source": [
    "Looks like when the max_depth is 2, I can get the best result."
   ]
  },
  {
   "cell_type": "code",
   "execution_count": 45,
   "metadata": {
    "execution": {
     "iopub.execute_input": "2020-09-16T23:38:33.572239Z",
     "iopub.status.busy": "2020-09-16T23:38:33.571193Z",
     "iopub.status.idle": "2020-09-16T23:38:35.345249Z",
     "shell.execute_reply": "2020-09-16T23:38:35.346315Z"
    },
    "papermill": {
     "duration": 1.869172,
     "end_time": "2020-09-16T23:38:35.346542",
     "exception": false,
     "start_time": "2020-09-16T23:38:33.477370",
     "status": "completed"
    },
    "tags": []
   },
   "outputs": [
    {
     "name": "stdout",
     "output_type": "stream",
     "text": [
      "Training until validation scores don't improve for 100 rounds\n",
      "[50]\tvalid_0's rmse: 0.131098\n",
      "[100]\tvalid_0's rmse: 0.118845\n",
      "[150]\tvalid_0's rmse: 0.115252\n",
      "[200]\tvalid_0's rmse: 0.113691\n",
      "[250]\tvalid_0's rmse: 0.112933\n",
      "[300]\tvalid_0's rmse: 0.112388\n",
      "[350]\tvalid_0's rmse: 0.112029\n",
      "[400]\tvalid_0's rmse: 0.112103\n",
      "[450]\tvalid_0's rmse: 0.111959\n",
      "Early stopping, best iteration is:\n",
      "[364]\tvalid_0's rmse: 0.111875\n",
      "Training until validation scores don't improve for 200 rounds\n",
      "[50]\tvalid_0's rmse: 0.131098\n",
      "[100]\tvalid_0's rmse: 0.118845\n",
      "[150]\tvalid_0's rmse: 0.115252\n",
      "[200]\tvalid_0's rmse: 0.113691\n",
      "[250]\tvalid_0's rmse: 0.112933\n",
      "[300]\tvalid_0's rmse: 0.112388\n",
      "[350]\tvalid_0's rmse: 0.112029\n",
      "[400]\tvalid_0's rmse: 0.112103\n",
      "[450]\tvalid_0's rmse: 0.111959\n",
      "[500]\tvalid_0's rmse: 0.111976\n",
      "[550]\tvalid_0's rmse: 0.111807\n",
      "[600]\tvalid_0's rmse: 0.11221\n",
      "[650]\tvalid_0's rmse: 0.112687\n",
      "[700]\tvalid_0's rmse: 0.112727\n",
      "Early stopping, best iteration is:\n",
      "[525]\tvalid_0's rmse: 0.111702\n",
      "Training until validation scores don't improve for 300 rounds\n",
      "[50]\tvalid_0's rmse: 0.131098\n",
      "[100]\tvalid_0's rmse: 0.118845\n",
      "[150]\tvalid_0's rmse: 0.115252\n",
      "[200]\tvalid_0's rmse: 0.113691\n",
      "[250]\tvalid_0's rmse: 0.112933\n",
      "[300]\tvalid_0's rmse: 0.112388\n",
      "[350]\tvalid_0's rmse: 0.112029\n",
      "[400]\tvalid_0's rmse: 0.112103\n",
      "[450]\tvalid_0's rmse: 0.111959\n",
      "[500]\tvalid_0's rmse: 0.111976\n",
      "[550]\tvalid_0's rmse: 0.111807\n",
      "[600]\tvalid_0's rmse: 0.11221\n",
      "[650]\tvalid_0's rmse: 0.112687\n",
      "[700]\tvalid_0's rmse: 0.112727\n",
      "[750]\tvalid_0's rmse: 0.112964\n",
      "[800]\tvalid_0's rmse: 0.113093\n",
      "Early stopping, best iteration is:\n",
      "[525]\tvalid_0's rmse: 0.111702\n",
      "Training until validation scores don't improve for 400 rounds\n",
      "[50]\tvalid_0's rmse: 0.131098\n",
      "[100]\tvalid_0's rmse: 0.118845\n",
      "[150]\tvalid_0's rmse: 0.115252\n",
      "[200]\tvalid_0's rmse: 0.113691\n",
      "[250]\tvalid_0's rmse: 0.112933\n",
      "[300]\tvalid_0's rmse: 0.112388\n",
      "[350]\tvalid_0's rmse: 0.112029\n",
      "[400]\tvalid_0's rmse: 0.112103\n",
      "[450]\tvalid_0's rmse: 0.111959\n",
      "[500]\tvalid_0's rmse: 0.111976\n",
      "[550]\tvalid_0's rmse: 0.111807\n",
      "[600]\tvalid_0's rmse: 0.11221\n",
      "[650]\tvalid_0's rmse: 0.112687\n",
      "[700]\tvalid_0's rmse: 0.112727\n",
      "[750]\tvalid_0's rmse: 0.112964\n",
      "[800]\tvalid_0's rmse: 0.113093\n",
      "[850]\tvalid_0's rmse: 0.113174\n",
      "[900]\tvalid_0's rmse: 0.113258\n",
      "Early stopping, best iteration is:\n",
      "[525]\tvalid_0's rmse: 0.111702\n",
      "Training until validation scores don't improve for 500 rounds\n",
      "[50]\tvalid_0's rmse: 0.131098\n",
      "[100]\tvalid_0's rmse: 0.118845\n",
      "[150]\tvalid_0's rmse: 0.115252\n",
      "[200]\tvalid_0's rmse: 0.113691\n",
      "[250]\tvalid_0's rmse: 0.112933\n",
      "[300]\tvalid_0's rmse: 0.112388\n",
      "[350]\tvalid_0's rmse: 0.112029\n",
      "[400]\tvalid_0's rmse: 0.112103\n",
      "[450]\tvalid_0's rmse: 0.111959\n",
      "[500]\tvalid_0's rmse: 0.111976\n",
      "[550]\tvalid_0's rmse: 0.111807\n",
      "[600]\tvalid_0's rmse: 0.11221\n",
      "[650]\tvalid_0's rmse: 0.112687\n",
      "[700]\tvalid_0's rmse: 0.112727\n",
      "[750]\tvalid_0's rmse: 0.112964\n",
      "[800]\tvalid_0's rmse: 0.113093\n",
      "[850]\tvalid_0's rmse: 0.113174\n",
      "[900]\tvalid_0's rmse: 0.113258\n",
      "[950]\tvalid_0's rmse: 0.113419\n",
      "[1000]\tvalid_0's rmse: 0.113426\n",
      "Early stopping, best iteration is:\n",
      "[525]\tvalid_0's rmse: 0.111702\n"
     ]
    }
   ],
   "source": [
    "# Checking the best early_stopping_rounds\n",
    "\n",
    "early_stopping_rounds_list = np.arange(100,501,100)\n",
    "\n",
    "for i in early_stopping_rounds_list:\n",
    "    params = {'boosting_type': 'gbdt',\n",
    "          'objective': 'regression',\n",
    "          'metric': 'rmse',\n",
    "          'max_depth' : 2}\n",
    "    \n",
    "    gbm = lgb.train(params,\n",
    "               lgb_train,\n",
    "               valid_sets = lgb_test,\n",
    "               num_boost_round = 5000,\n",
    "               early_stopping_rounds = i,\n",
    "                verbose_eval = 50\n",
    "                )"
   ]
  },
  {
   "cell_type": "markdown",
   "metadata": {
    "papermill": {
     "duration": 0.104503,
     "end_time": "2020-09-16T23:38:35.566526",
     "exception": false,
     "start_time": "2020-09-16T23:38:35.462023",
     "status": "completed"
    },
    "tags": []
   },
   "source": [
    "From this, I can tell the best early_stopping_rounds are between 200 and 300, so I'm going to use 300. "
   ]
  },
  {
   "cell_type": "code",
   "execution_count": 46,
   "metadata": {
    "execution": {
     "iopub.execute_input": "2020-09-16T23:38:35.748645Z",
     "iopub.status.busy": "2020-09-16T23:38:35.747795Z",
     "iopub.status.idle": "2020-09-16T23:38:36.109098Z",
     "shell.execute_reply": "2020-09-16T23:38:36.109936Z"
    },
    "papermill": {
     "duration": 0.456454,
     "end_time": "2020-09-16T23:38:36.110106",
     "exception": false,
     "start_time": "2020-09-16T23:38:35.653652",
     "status": "completed"
    },
    "tags": []
   },
   "outputs": [
    {
     "name": "stdout",
     "output_type": "stream",
     "text": [
      "Training until validation scores don't improve for 300 rounds\n",
      "[50]\tvalid_0's rmse: 0.131098\n",
      "[100]\tvalid_0's rmse: 0.118845\n",
      "[150]\tvalid_0's rmse: 0.115252\n",
      "[200]\tvalid_0's rmse: 0.113691\n",
      "[250]\tvalid_0's rmse: 0.112933\n",
      "[300]\tvalid_0's rmse: 0.112388\n",
      "[350]\tvalid_0's rmse: 0.112029\n",
      "[400]\tvalid_0's rmse: 0.112103\n",
      "[450]\tvalid_0's rmse: 0.111959\n",
      "[500]\tvalid_0's rmse: 0.111976\n",
      "[550]\tvalid_0's rmse: 0.111807\n",
      "[600]\tvalid_0's rmse: 0.11221\n",
      "[650]\tvalid_0's rmse: 0.112687\n",
      "[700]\tvalid_0's rmse: 0.112727\n",
      "[750]\tvalid_0's rmse: 0.112964\n",
      "[800]\tvalid_0's rmse: 0.113093\n",
      "Early stopping, best iteration is:\n",
      "[525]\tvalid_0's rmse: 0.111702\n"
     ]
    }
   ],
   "source": [
    "# Using those numbers as the parameters.\n",
    "\n",
    "params = {'boosting_type': 'gbdt',\n",
    "          'objective': 'regression',\n",
    "          'metric': 'rmse',\n",
    "          'max_depth' : 2}\n",
    "gbm = lgb.train(params,\n",
    "               lgb_train,\n",
    "               valid_sets = lgb_test,\n",
    "               num_boost_round = 5000,\n",
    "               early_stopping_rounds =300,\n",
    "                verbose_eval = 50\n",
    "                )"
   ]
  },
  {
   "cell_type": "code",
   "execution_count": 47,
   "metadata": {
    "execution": {
     "iopub.execute_input": "2020-09-16T23:38:36.343790Z",
     "iopub.status.busy": "2020-09-16T23:38:36.342693Z",
     "iopub.status.idle": "2020-09-16T23:38:36.349291Z",
     "shell.execute_reply": "2020-09-16T23:38:36.349935Z"
    },
    "papermill": {
     "duration": 0.12105,
     "end_time": "2020-09-16T23:38:36.350128",
     "exception": false,
     "start_time": "2020-09-16T23:38:36.229078",
     "status": "completed"
    },
    "tags": []
   },
   "outputs": [],
   "source": [
    "# Getting the predicted Saleprice from X_test\n",
    "\n",
    "predicted = gbm.predict(X_test)"
   ]
  },
  {
   "cell_type": "code",
   "execution_count": 48,
   "metadata": {
    "execution": {
     "iopub.execute_input": "2020-09-16T23:38:36.599896Z",
     "iopub.status.busy": "2020-09-16T23:38:36.595581Z",
     "iopub.status.idle": "2020-09-16T23:38:36.605100Z",
     "shell.execute_reply": "2020-09-16T23:38:36.604579Z"
    },
    "papermill": {
     "duration": 0.130141,
     "end_time": "2020-09-16T23:38:36.605233",
     "exception": false,
     "start_time": "2020-09-16T23:38:36.475092",
     "status": "completed"
    },
    "tags": []
   },
   "outputs": [
    {
     "data": {
      "text/html": [
       "<div>\n",
       "<style scoped>\n",
       "    .dataframe tbody tr th:only-of-type {\n",
       "        vertical-align: middle;\n",
       "    }\n",
       "\n",
       "    .dataframe tbody tr th {\n",
       "        vertical-align: top;\n",
       "    }\n",
       "\n",
       "    .dataframe thead th {\n",
       "        text-align: right;\n",
       "    }\n",
       "</style>\n",
       "<table border=\"1\" class=\"dataframe\">\n",
       "  <thead>\n",
       "    <tr style=\"text-align: right;\">\n",
       "      <th></th>\n",
       "      <th>True</th>\n",
       "      <th>Predicted</th>\n",
       "    </tr>\n",
       "  </thead>\n",
       "  <tbody>\n",
       "    <tr>\n",
       "      <th>0</th>\n",
       "      <td>11.884489</td>\n",
       "      <td>11.889518</td>\n",
       "    </tr>\n",
       "    <tr>\n",
       "      <th>1</th>\n",
       "      <td>12.133502</td>\n",
       "      <td>11.994283</td>\n",
       "    </tr>\n",
       "    <tr>\n",
       "      <th>2</th>\n",
       "      <td>11.379394</td>\n",
       "      <td>11.339058</td>\n",
       "    </tr>\n",
       "    <tr>\n",
       "      <th>3</th>\n",
       "      <td>11.917724</td>\n",
       "      <td>11.829859</td>\n",
       "    </tr>\n",
       "    <tr>\n",
       "      <th>4</th>\n",
       "      <td>12.676076</td>\n",
       "      <td>12.518444</td>\n",
       "    </tr>\n",
       "    <tr>\n",
       "      <th>...</th>\n",
       "      <td>...</td>\n",
       "      <td>...</td>\n",
       "    </tr>\n",
       "    <tr>\n",
       "      <th>287</th>\n",
       "      <td>12.004568</td>\n",
       "      <td>11.811192</td>\n",
       "    </tr>\n",
       "    <tr>\n",
       "      <th>288</th>\n",
       "      <td>11.881035</td>\n",
       "      <td>11.903409</td>\n",
       "    </tr>\n",
       "    <tr>\n",
       "      <th>289</th>\n",
       "      <td>11.867097</td>\n",
       "      <td>11.881898</td>\n",
       "    </tr>\n",
       "    <tr>\n",
       "      <th>290</th>\n",
       "      <td>11.362103</td>\n",
       "      <td>11.317587</td>\n",
       "    </tr>\n",
       "    <tr>\n",
       "      <th>291</th>\n",
       "      <td>11.982929</td>\n",
       "      <td>11.878995</td>\n",
       "    </tr>\n",
       "  </tbody>\n",
       "</table>\n",
       "<p>292 rows × 2 columns</p>\n",
       "</div>"
      ],
      "text/plain": [
       "          True  Predicted\n",
       "0    11.884489  11.889518\n",
       "1    12.133502  11.994283\n",
       "2    11.379394  11.339058\n",
       "3    11.917724  11.829859\n",
       "4    12.676076  12.518444\n",
       "..         ...        ...\n",
       "287  12.004568  11.811192\n",
       "288  11.881035  11.903409\n",
       "289  11.867097  11.881898\n",
       "290  11.362103  11.317587\n",
       "291  11.982929  11.878995\n",
       "\n",
       "[292 rows x 2 columns]"
      ]
     },
     "execution_count": 48,
     "metadata": {},
     "output_type": "execute_result"
    }
   ],
   "source": [
    "# Compare the predicted Saleprice and y_test\n",
    "\n",
    "pred_df = pd.concat([y_test.reset_index(drop=True), pd.Series(predicted)],axis=1)\n",
    "pred_df.columns = [\"True\", \"Predicted\"]\n",
    "pred_df"
   ]
  },
  {
   "cell_type": "code",
   "execution_count": 49,
   "metadata": {
    "execution": {
     "iopub.execute_input": "2020-09-16T23:38:36.796639Z",
     "iopub.status.busy": "2020-09-16T23:38:36.795926Z",
     "iopub.status.idle": "2020-09-16T23:38:36.798578Z",
     "shell.execute_reply": "2020-09-16T23:38:36.797944Z"
    },
    "papermill": {
     "duration": 0.100731,
     "end_time": "2020-09-16T23:38:36.798685",
     "exception": false,
     "start_time": "2020-09-16T23:38:36.697954",
     "status": "completed"
    },
    "tags": []
   },
   "outputs": [],
   "source": [
    "# Checking the RMSE and R2_score\n",
    "\n",
    "RMSE = np.sqrt(mean_squared_error(pred_df['True'], pred_df['Predicted']))\n",
    "R2 = r2_score(pred_df['True'], pred_df['Predicted'])"
   ]
  },
  {
   "cell_type": "code",
   "execution_count": 50,
   "metadata": {
    "execution": {
     "iopub.execute_input": "2020-09-16T23:38:36.999431Z",
     "iopub.status.busy": "2020-09-16T23:38:36.998303Z",
     "iopub.status.idle": "2020-09-16T23:38:37.287757Z",
     "shell.execute_reply": "2020-09-16T23:38:37.287080Z"
    },
    "papermill": {
     "duration": 0.398166,
     "end_time": "2020-09-16T23:38:37.287884",
     "exception": false,
     "start_time": "2020-09-16T23:38:36.889718",
     "status": "completed"
    },
    "tags": []
   },
   "outputs": [
    {
     "data": {
      "text/plain": [
       "Text(0.1, 0.8, 'R2 = 0.92638')"
      ]
     },
     "execution_count": 50,
     "metadata": {},
     "output_type": "execute_result"
    },
    {
     "data": {
      "image/png": "[encoded data removed]",
      "text/plain": [
       "<Figure size 576x576 with 1 Axes>"
      ]
     },
     "metadata": {
      "needs_background": "light"
     },
     "output_type": "display_data"
    }
   ],
   "source": [
    "# Plotting the result\n",
    "\n",
    "plt.figure(figsize = (8,8))\n",
    "ax = plt.subplot(111)\n",
    "ax.scatter(pred_df['True'], pred_df['Predicted'], marker = \"o\")\n",
    "ax.set_xlabel(\"True\", fontsize = 15)\n",
    "ax.set_ylabel(\"Predicted\", fontsize = 15)\n",
    "x = np.linspace(pred_df['True'].min() - 0.5, pred_df['True'].max() + 0.5)\n",
    "y = x\n",
    "ax.plot(x,y, \"r-\")\n",
    "plt.text(0.1, 0.9, 'RMSE = {}'.format(str(round(RMSE, 5))),transform=ax.transAxes,fontsize=15)\n",
    "plt.text(0.1, 0.8, 'R2 = {}'.format(str(round(R2, 5))),transform=ax.transAxes,fontsize=15)"
   ]
  },
  {
   "cell_type": "markdown",
   "metadata": {
    "papermill": {
     "duration": 0.090894,
     "end_time": "2020-09-16T23:38:37.469904",
     "exception": false,
     "start_time": "2020-09-16T23:38:37.379010",
     "status": "completed"
    },
    "tags": []
   },
   "source": [
    "It looks like it's predicted well!"
   ]
  },
  {
   "cell_type": "markdown",
   "metadata": {
    "papermill": {
     "duration": 0.090261,
     "end_time": "2020-09-16T23:38:37.652132",
     "exception": false,
     "start_time": "2020-09-16T23:38:37.561871",
     "status": "completed"
    },
    "tags": []
   },
   "source": [
    "# ◆Making the submission"
   ]
  },
  {
   "cell_type": "code",
   "execution_count": 51,
   "metadata": {
    "execution": {
     "iopub.execute_input": "2020-09-16T23:38:37.838693Z",
     "iopub.status.busy": "2020-09-16T23:38:37.837994Z",
     "iopub.status.idle": "2020-09-16T23:38:37.866262Z",
     "shell.execute_reply": "2020-09-16T23:38:37.867030Z"
    },
    "papermill": {
     "duration": 0.124177,
     "end_time": "2020-09-16T23:38:37.867197",
     "exception": false,
     "start_time": "2020-09-16T23:38:37.743020",
     "status": "completed"
    },
    "tags": []
   },
   "outputs": [],
   "source": [
    "# Making the prediction from the separated test data\n",
    "\n",
    "predicted_submission = gbm.predict(sep_test_df)"
   ]
  },
  {
   "cell_type": "code",
   "execution_count": 52,
   "metadata": {
    "execution": {
     "iopub.execute_input": "2020-09-16T23:38:38.100010Z",
     "iopub.status.busy": "2020-09-16T23:38:38.098974Z",
     "iopub.status.idle": "2020-09-16T23:38:38.101703Z",
     "shell.execute_reply": "2020-09-16T23:38:38.102160Z"
    },
    "papermill": {
     "duration": 0.116662,
     "end_time": "2020-09-16T23:38:38.102345",
     "exception": false,
     "start_time": "2020-09-16T23:38:37.985683",
     "status": "completed"
    },
    "tags": []
   },
   "outputs": [],
   "source": [
    "# Changing it to Series\n",
    " \n",
    "predicted_submission_series =  pd.Series(data = predicted_submission)"
   ]
  },
  {
   "cell_type": "code",
   "execution_count": 53,
   "metadata": {
    "execution": {
     "iopub.execute_input": "2020-09-16T23:38:38.291438Z",
     "iopub.status.busy": "2020-09-16T23:38:38.290741Z",
     "iopub.status.idle": "2020-09-16T23:38:38.294581Z",
     "shell.execute_reply": "2020-09-16T23:38:38.295099Z"
    },
    "papermill": {
     "duration": 0.101826,
     "end_time": "2020-09-16T23:38:38.295275",
     "exception": false,
     "start_time": "2020-09-16T23:38:38.193449",
     "status": "completed"
    },
    "tags": []
   },
   "outputs": [
    {
     "data": {
      "text/plain": [
       "0       1461\n",
       "1       1462\n",
       "2       1463\n",
       "3       1464\n",
       "4       1465\n",
       "        ... \n",
       "1454    2915\n",
       "1455    2916\n",
       "1456    2917\n",
       "1457    2918\n",
       "1458    2919\n",
       "Name: Id, Length: 1459, dtype: int64"
      ]
     },
     "execution_count": 53,
     "metadata": {},
     "output_type": "execute_result"
    }
   ],
   "source": [
    "# Getting the Id\n",
    "\n",
    "df_test1[\"Id\"]"
   ]
  },
  {
   "cell_type": "code",
   "execution_count": 54,
   "metadata": {
    "execution": {
     "iopub.execute_input": "2020-09-16T23:38:38.485861Z",
     "iopub.status.busy": "2020-09-16T23:38:38.484871Z",
     "iopub.status.idle": "2020-09-16T23:38:38.488127Z",
     "shell.execute_reply": "2020-09-16T23:38:38.487582Z"
    },
    "papermill": {
     "duration": 0.10087,
     "end_time": "2020-09-16T23:38:38.488252",
     "exception": false,
     "start_time": "2020-09-16T23:38:38.387382",
     "status": "completed"
    },
    "tags": []
   },
   "outputs": [],
   "source": [
    "# Making a dataframe for submission\n",
    "\n",
    "submission_df = pd.concat([df_test1[\"Id\"],predicted_submission_series], axis = 1, keys = [\"Id\",\"SalePrice\"])"
   ]
  },
  {
   "cell_type": "code",
   "execution_count": 55,
   "metadata": {
    "execution": {
     "iopub.execute_input": "2020-09-16T23:38:38.676764Z",
     "iopub.status.busy": "2020-09-16T23:38:38.676037Z",
     "iopub.status.idle": "2020-09-16T23:38:38.686723Z",
     "shell.execute_reply": "2020-09-16T23:38:38.687340Z"
    },
    "papermill": {
     "duration": 0.105787,
     "end_time": "2020-09-16T23:38:38.687475",
     "exception": false,
     "start_time": "2020-09-16T23:38:38.581688",
     "status": "completed"
    },
    "tags": []
   },
   "outputs": [
    {
     "data": {
      "text/html": [
       "<div>\n",
       "<style scoped>\n",
       "    .dataframe tbody tr th:only-of-type {\n",
       "        vertical-align: middle;\n",
       "    }\n",
       "\n",
       "    .dataframe tbody tr th {\n",
       "        vertical-align: top;\n",
       "    }\n",
       "\n",
       "    .dataframe thead th {\n",
       "        text-align: right;\n",
       "    }\n",
       "</style>\n",
       "<table border=\"1\" class=\"dataframe\">\n",
       "  <thead>\n",
       "    <tr style=\"text-align: right;\">\n",
       "      <th></th>\n",
       "      <th>Id</th>\n",
       "      <th>SalePrice</th>\n",
       "    </tr>\n",
       "  </thead>\n",
       "  <tbody>\n",
       "    <tr>\n",
       "      <th>0</th>\n",
       "      <td>1461</td>\n",
       "      <td>11.629607</td>\n",
       "    </tr>\n",
       "    <tr>\n",
       "      <th>1</th>\n",
       "      <td>1462</td>\n",
       "      <td>11.907805</td>\n",
       "    </tr>\n",
       "    <tr>\n",
       "      <th>2</th>\n",
       "      <td>1463</td>\n",
       "      <td>12.153578</td>\n",
       "    </tr>\n",
       "    <tr>\n",
       "      <th>3</th>\n",
       "      <td>1464</td>\n",
       "      <td>12.158869</td>\n",
       "    </tr>\n",
       "    <tr>\n",
       "      <th>4</th>\n",
       "      <td>1465</td>\n",
       "      <td>12.144141</td>\n",
       "    </tr>\n",
       "    <tr>\n",
       "      <th>...</th>\n",
       "      <td>...</td>\n",
       "      <td>...</td>\n",
       "    </tr>\n",
       "    <tr>\n",
       "      <th>1454</th>\n",
       "      <td>2915</td>\n",
       "      <td>11.290016</td>\n",
       "    </tr>\n",
       "    <tr>\n",
       "      <th>1455</th>\n",
       "      <td>2916</td>\n",
       "      <td>11.353718</td>\n",
       "    </tr>\n",
       "    <tr>\n",
       "      <th>1456</th>\n",
       "      <td>2917</td>\n",
       "      <td>12.038518</td>\n",
       "    </tr>\n",
       "    <tr>\n",
       "      <th>1457</th>\n",
       "      <td>2918</td>\n",
       "      <td>11.688148</td>\n",
       "    </tr>\n",
       "    <tr>\n",
       "      <th>1458</th>\n",
       "      <td>2919</td>\n",
       "      <td>12.284002</td>\n",
       "    </tr>\n",
       "  </tbody>\n",
       "</table>\n",
       "<p>1459 rows × 2 columns</p>\n",
       "</div>"
      ],
      "text/plain": [
       "        Id  SalePrice\n",
       "0     1461  11.629607\n",
       "1     1462  11.907805\n",
       "2     1463  12.153578\n",
       "3     1464  12.158869\n",
       "4     1465  12.144141\n",
       "...    ...        ...\n",
       "1454  2915  11.290016\n",
       "1455  2916  11.353718\n",
       "1456  2917  12.038518\n",
       "1457  2918  11.688148\n",
       "1458  2919  12.284002\n",
       "\n",
       "[1459 rows x 2 columns]"
      ]
     },
     "execution_count": 55,
     "metadata": {},
     "output_type": "execute_result"
    }
   ],
   "source": [
    "submission_df"
   ]
  },
  {
   "cell_type": "code",
   "execution_count": 56,
   "metadata": {
    "execution": {
     "iopub.execute_input": "2020-09-16T23:38:38.875575Z",
     "iopub.status.busy": "2020-09-16T23:38:38.874897Z",
     "iopub.status.idle": "2020-09-16T23:38:39.181788Z",
     "shell.execute_reply": "2020-09-16T23:38:39.182361Z"
    },
    "papermill": {
     "duration": 0.402667,
     "end_time": "2020-09-16T23:38:39.182513",
     "exception": false,
     "start_time": "2020-09-16T23:38:38.779846",
     "status": "completed"
    },
    "tags": []
   },
   "outputs": [],
   "source": [
    "submission_df.to_csv(\"Submission.csv\", index = False)"
   ]
  },
  {
   "cell_type": "code",
   "execution_count": null,
   "metadata": {
    "papermill": {
     "duration": 0.093185,
     "end_time": "2020-09-16T23:38:39.368246",
     "exception": false,
     "start_time": "2020-09-16T23:38:39.275061",
     "status": "completed"
    },
    "tags": []
   },
   "outputs": [],
   "source": []
  }
 ],
 "metadata": {
  "kernelspec": {
   "display_name": "Python 3",
   "language": "python",
   "name": "python3"
  },
  "language_info": {
   "codemirror_mode": {
    "name": "ipython",
    "version": 3
   },
   "file_extension": ".py",
   "mimetype": "text/x-python",
   "name": "python",
   "nbconvert_exporter": "python",
   "pygments_lexer": "ipython3",
   "version": "3.7.6"
  },
  "papermill": {
   "duration": 30.07326,
   "end_time": "2020-09-16T23:38:40.540370",
   "environment_variables": {},
   "exception": null,
   "input_path": "__notebook__.ipynb",
   "output_path": "__notebook__.ipynb",
   "parameters": {},
   "start_time": "2020-09-16T23:38:10.467110",
   "version": "2.1.0"
  }
 },
 "nbformat": 4,
 "nbformat_minor": 4
}
